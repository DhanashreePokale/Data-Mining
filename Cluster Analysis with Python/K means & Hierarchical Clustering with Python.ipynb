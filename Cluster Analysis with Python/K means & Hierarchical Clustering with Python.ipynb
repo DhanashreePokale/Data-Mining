{
 "cells": [
  {
   "cell_type": "markdown",
   "metadata": {},
   "source": [
    "# K means & Hierarchical Clustering with Python\n",
    "\n",
    "## K Means\n",
    "Unsupervised learning used for predicting groups from unlabeled datasets.\n",
    "\n",
    "Predictions are based on \n",
    "    1. number of clusters k\n",
    "    2. nearest mean values between observations (Euclidian distance between observations)\n",
    "\n",
    "Popular usecases:\n",
    "1. Market Price\n",
    "2. Cost Modeling\n",
    "3. Customer Segmentation\n",
    "4. Insurance clain Fraud detection\n",
    "5. Hedge fund classification\n",
    "\n",
    "Things to keep in mind:\n",
    "1. Scale the variables\n",
    "2. Explore scatter plot to determine optimal number of clusters to specify the k value\n",
    "\n",
    "## Hierarchical\n",
    "Method to predict subgroup within data by \n",
    "    1. Finding distance between every data point & its nearest neighbours\n",
    "    2. Each data point is linked to its most nearby neighbours by distance metric you choose\n",
    "    \n",
    "To find appropriate number of clusters we take a look at dendogram.\n",
    "\n",
    "Dendogram is a tree graph that's useful for visually displaying taxonomies, lineages, and relatedness\n",
    "\n",
    "Popular usecases:\n",
    "1. Hospital Resource Management\n",
    "2. Business Process Management\n",
    "3. Customer Segmentation\n",
    "4. Social Network Analysis\n",
    "\n",
    "Hierachical Clustering Parameters:\n",
    "1. Distance Metrics\n",
    "    a. Euclidean\n",
    "    b. Manhattan\n",
    "    c. Cosine\n",
    "2. Linkage Parameters\n",
    "    a. Ward\n",
    "    b. Complete\n",
    "    c. Average\n",
    "    \n",
    "Parameter Selection Method would mostly be trial and error and the parameters that return highest accuracy would be the one to go forward with.\n",
    "\n"
   ]
  },
  {
   "cell_type": "markdown",
   "metadata": {},
   "source": [
    "# K Means"
   ]
  },
  {
   "cell_type": "code",
   "execution_count": 20,
   "metadata": {
    "collapsed": true
   },
   "outputs": [],
   "source": [
    "import numpy as np\n",
    "import pandas as pd\n",
    "\n",
    "import matplotlib.pyplot as plt\n",
    "\n",
    "import sklearn\n",
    "from sklearn.cluster import KMeans\n",
    "from mpl_toolkits.mplot3d import Axes3D\n",
    "from sklearn.preprocessing import scale\n",
    "import sklearn.metrics as sm\n",
    "from sklearn import datasets\n",
    "from sklearn.metrics import confusion_matrix, classification_report"
   ]
  },
  {
   "cell_type": "code",
   "execution_count": 4,
   "metadata": {},
   "outputs": [
    {
     "data": {
      "text/plain": [
       "<matplotlib.figure.Figure at 0x10a200650>"
      ]
     },
     "execution_count": 4,
     "metadata": {},
     "output_type": "execute_result"
    },
    {
     "data": {
      "text/plain": [
       "<matplotlib.figure.Figure at 0x10a200650>"
      ]
     },
     "metadata": {},
     "output_type": "display_data"
    }
   ],
   "source": [
    "# set ploting parameters\n",
    "%matplotlib inline\n",
    "plt.figure(figsize = (7,4))"
   ]
  },
  {
   "cell_type": "code",
   "execution_count": 10,
   "metadata": {},
   "outputs": [
    {
     "data": {
      "text/plain": [
       "array([[-0.90068117,  1.03205722, -1.3412724 , -1.31297673],\n",
       "       [-1.14301691, -0.1249576 , -1.3412724 , -1.31297673],\n",
       "       [-1.38535265,  0.33784833, -1.39813811, -1.31297673],\n",
       "       [-1.50652052,  0.10644536, -1.2844067 , -1.31297673],\n",
       "       [-1.02184904,  1.26346019, -1.3412724 , -1.31297673],\n",
       "       [-0.53717756,  1.95766909, -1.17067529, -1.05003079],\n",
       "       [-1.50652052,  0.80065426, -1.3412724 , -1.18150376],\n",
       "       [-1.02184904,  0.80065426, -1.2844067 , -1.31297673],\n",
       "       [-1.74885626, -0.35636057, -1.3412724 , -1.31297673],\n",
       "       [-1.14301691,  0.10644536, -1.2844067 , -1.4444497 ]])"
      ]
     },
     "execution_count": 10,
     "metadata": {},
     "output_type": "execute_result"
    }
   ],
   "source": [
    "iris = datasets.load_iris()\n",
    "\n",
    "# scale the data\n",
    "X = scale(iris.data) # The independent variables\n",
    "y = pd.DataFrame(iris.target) # the dependent variable\n",
    "variable_names = iris.feature_names\n",
    "X[0:10,]"
   ]
  },
  {
   "cell_type": "code",
   "execution_count": 11,
   "metadata": {},
   "outputs": [
    {
     "data": {
      "text/plain": [
       "KMeans(algorithm='auto', copy_x=True, init='k-means++', max_iter=300,\n",
       "    n_clusters=3, n_init=10, n_jobs=1, precompute_distances='auto',\n",
       "    random_state=5, tol=0.0001, verbose=0)"
      ]
     },
     "execution_count": 11,
     "metadata": {},
     "output_type": "execute_result"
    }
   ],
   "source": [
    "# building a k means model\n",
    "clustering = KMeans(n_clusters = 3, random_state = 5) \n",
    "# random_state to intialize and assign observations to random centroids\n",
    "# n_clusters is the k parameter\n",
    "\n",
    "# we call the fit method of the model to run it\n",
    "clustering.fit(X)"
   ]
  },
  {
   "cell_type": "code",
   "execution_count": 12,
   "metadata": {
    "collapsed": true
   },
   "outputs": [],
   "source": [
    "# Plotting Model outputs\n",
    "iris_df = pd.DataFrame(iris.data)\n",
    "iris_df.columns = ['Sepal_Length','Sepal_Width','Petal_Length','Petal_Width']\n",
    "y.columns = ['Targets']"
   ]
  },
  {
   "cell_type": "code",
   "execution_count": 15,
   "metadata": {},
   "outputs": [
    {
     "data": {
      "text/plain": [
       "<matplotlib.text.Text at 0x10a725750>"
      ]
     },
     "execution_count": 15,
     "metadata": {},
     "output_type": "execute_result"
    },
    {
     "data": {
      "image/png": "[encoded data removed]",
      "text/plain": [
       "<matplotlib.figure.Figure at 0x104358710>"
      ]
     },
     "metadata": {},
     "output_type": "display_data"
    }
   ],
   "source": [
    "color_theme = np.array(['darkgray','lightsalmon','powderblue'])\n",
    "plt.subplot(1,2,1)\n",
    "plt.scatter(x= iris_df.Petal_Length, y = iris_df.Petal_Width, c= color_theme[iris.target], s = 45)\n",
    "plt.title('Ground Truth Classification')\n",
    "\n",
    "plt.subplot(1,2,2)\n",
    "plt.scatter(x= iris_df.Petal_Length, y = iris_df.Petal_Width, c= color_theme[clustering.labels_], s = 45)\n",
    "plt.title('K-Means Classification')"
   ]
  },
  {
   "cell_type": "code",
   "execution_count": 17,
   "metadata": {},
   "outputs": [
    {
     "data": {
      "text/plain": [
       "<matplotlib.text.Text at 0x10a9d9b90>"
      ]
     },
     "execution_count": 17,
     "metadata": {},
     "output_type": "execute_result"
    },
    {
     "data": {
      "image/png": "[encoded data removed]",
      "text/plain": [
       "<matplotlib.figure.Figure at 0x10a7961d0>"
      ]
     },
     "metadata": {},
     "output_type": "display_data"
    }
   ],
   "source": [
    "relabel = np.choose(clustering.labels_, [2,0,1]).astype(np.int64)\n",
    "\n",
    "plt.subplot(1,2,1)\n",
    "plt.scatter(x= iris_df.Petal_Length, y = iris_df.Petal_Width, c= color_theme[iris.target], s = 45)\n",
    "plt.title('Ground Truth Classification')\n",
    "\n",
    "plt.subplot(1,2,2)\n",
    "plt.scatter(x= iris_df.Petal_Length, y = iris_df.Petal_Width, c= color_theme[relabel], s = 45)\n",
    "plt.title('K-Means Classification')"
   ]
  },
  {
   "cell_type": "code",
   "execution_count": 18,
   "metadata": {},
   "outputs": [
    {
     "name": "stdout",
     "output_type": "stream",
     "text": [
      "             precision    recall  f1-score   support\n",
      "\n",
      "          0       1.00      1.00      1.00        50\n",
      "          1       0.74      0.78      0.76        50\n",
      "          2       0.77      0.72      0.74        50\n",
      "\n",
      "avg / total       0.83      0.83      0.83       150\n",
      "\n"
     ]
    }
   ],
   "source": [
    "print(classification_report(y,relabel))"
   ]
  },
  {
   "cell_type": "code",
   "execution_count": null,
   "metadata": {
    "collapsed": true
   },
   "outputs": [],
   "source": [
    "# Precision is measure of model's relevancy\n",
    "# Recall is a measure of model's completeness"
   ]
  },
  {
   "cell_type": "markdown",
   "metadata": {},
   "source": [
    "# Hierarchical"
   ]
  },
  {
   "cell_type": "code",
   "execution_count": 25,
   "metadata": {},
   "outputs": [],
   "source": [
    "# For dendogram we need scipy library\n",
    "import scipy\n",
    "from scipy.cluster.hierarchy import dendrogram, linkage\n",
    "from scipy.cluster.hierarchy import fcluster\n",
    "from scipy.cluster.hierarchy import cophenet\n",
    "\n",
    "from scipy.spatial.distance import pdist\n",
    "\n",
    "import matplotlib.pyplot as plt\n",
    "from pylab import rcParams\n",
    "import seaborn as sb\n",
    "# for hierachical clustering \n",
    "import sklearn\n",
    "from sklearn.cluster import AgglomerativeClustering # it is same as hierarchical clustering\n",
    "import sklearn.metrics as sm"
   ]
  },
  {
   "cell_type": "code",
   "execution_count": 27,
   "metadata": {},
   "outputs": [],
   "source": [
    "np.set_printoptions(precision=4, suppress = True)\n",
    "plt.figure(figsize =(10,3))\n",
    "%matplotlib inline\n",
    "plt.style.use('seaborn-whitegrid')"
   ]
  },
  {
   "cell_type": "code",
   "execution_count": 39,
   "metadata": {},
   "outputs": [],
   "source": [
    "address = '/Users/dhanashreepokale/Downloads/Ex_Files_Python_Data_Science_EssT/Exercise Files/Ch01/01_05/mtcars.csv'\n",
    "cars = pd.read_csv(address)\n",
    "cars.columns = ['car_names','mpg','cyl','disp','hp','drat','wt','qsec','vs','am','gear','carb']\n",
    "X = cars[['mpg','disp','hp','wt']].values\n",
    "y= cars[['am']]"
   ]
  },
  {
   "cell_type": "code",
   "execution_count": 43,
   "metadata": {},
   "outputs": [
    {
     "data": {
      "image/png": "[encoded data removed]",
      "text/plain": [
       "<matplotlib.figure.Figure at 0x10adb3b10>"
      ]
     },
     "metadata": {},
     "output_type": "display_data"
    }
   ],
   "source": [
    "# using scipy to generate dendrograms\n",
    "Z= linkage(X, 'ward')\n",
    "\n",
    "dendrogram(Z, truncate_mode = 'lastp',p=12, leaf_rotation = 45, leaf_font_size =15, show_contracted = True)\n",
    "\n",
    "plt.title('Truncated Hierarchical Clustering Dendrogram')\n",
    "plt.xlabel ('Cluster Size')\n",
    "plt.ylabel('Distance')\n",
    "\n",
    "plt.axhline(y=500)\n",
    "plt.axhline(y=150)\n",
    "plt.show()"
   ]
  },
  {
   "cell_type": "code",
   "execution_count": 46,
   "metadata": {},
   "outputs": [
    {
     "data": {
      "text/plain": [
       "0.78125"
      ]
     },
     "execution_count": 46,
     "metadata": {},
     "output_type": "execute_result"
    }
   ],
   "source": [
    "# 2 seems to be right no. of distance\n",
    "\n",
    "# Lets find out which model parameter is the best\n",
    "\n",
    "k = 2\n",
    "HClustering = AgglomerativeClustering(n_clusters = k, affinity = 'euclidean', linkage  = 'ward')\n",
    "HClustering.fit(X)\n",
    "\n",
    "sm.accuracy_score(y, HClustering.labels_)"
   ]
  },
  {
   "cell_type": "code",
   "execution_count": 47,
   "metadata": {},
   "outputs": [
    {
     "data": {
      "text/plain": [
       "0.4375"
      ]
     },
     "execution_count": 47,
     "metadata": {},
     "output_type": "execute_result"
    }
   ],
   "source": [
    "\n",
    "k = 2\n",
    "HClustering = AgglomerativeClustering(n_clusters = k, affinity = 'euclidean', linkage  = 'complete')\n",
    "HClustering.fit(X)\n",
    "\n",
    "sm.accuracy_score(y, HClustering.labels_)"
   ]
  },
  {
   "cell_type": "code",
   "execution_count": 49,
   "metadata": {},
   "outputs": [
    {
     "data": {
      "text/plain": [
       "0.71875"
      ]
     },
     "execution_count": 49,
     "metadata": {},
     "output_type": "execute_result"
    }
   ],
   "source": [
    "\n",
    "k = 2\n",
    "HClustering = AgglomerativeClustering(n_clusters = k, affinity = 'manhattan', linkage  = 'average')\n",
    "HClustering.fit(X)\n",
    "\n",
    "sm.accuracy_score(y, HClustering.labels_)"
   ]
  },
  {
   "cell_type": "code",
   "execution_count": 50,
   "metadata": {},
   "outputs": [
    {
     "data": {
      "text/plain": [
       "0.78125"
      ]
     },
     "execution_count": 50,
     "metadata": {},
     "output_type": "execute_result"
    }
   ],
   "source": [
    "\n",
    "k = 2\n",
    "HClustering = AgglomerativeClustering(n_clusters = k, affinity = 'euclidean', linkage  = 'average')\n",
    "HClustering.fit(X)\n",
    "\n",
    "sm.accuracy_score(y, HClustering.labels_)"
   ]
  },
  {
   "cell_type": "code",
   "execution_count": null,
   "metadata": {
    "collapsed": true
   },
   "outputs": [],
   "source": [
    "# Average eculidean or ward euclidean are the best model parameters!"
   ]
  }
 ],
 "metadata": {
  "kernelspec": {
   "display_name": "Python 2",
   "language": "python",
   "name": "python2"
  },
  "language_info": {
   "codemirror_mode": {
    "name": "ipython",
    "version": 2
   },
   "file_extension": ".py",
   "mimetype": "text/x-python",
   "name": "python",
   "nbconvert_exporter": "python",
   "pygments_lexer": "ipython2",
   "version": "2.7.13"
  }
 },
 "nbformat": 4,
 "nbformat_minor": 2
}
