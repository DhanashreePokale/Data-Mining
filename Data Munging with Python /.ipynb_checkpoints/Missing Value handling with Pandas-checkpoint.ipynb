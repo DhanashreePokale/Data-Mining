{
 "cells": [
  {
   "cell_type": "markdown",
   "metadata": {},
   "source": [
    "# Missing Value handling with Pandas\n",
    "\n",
    "Missing values are represented by NaN in Python. We may not always drop the missing values but at times approximate and impute them.\n"
   ]
  },
  {
   "cell_type": "code",
   "execution_count": 3,
   "metadata": {
    "collapsed": false
   },
   "outputs": [],
   "source": [
    "# importing Numpy and Pandas\n",
    "import numpy as np\n",
    "import pandas as pd\n",
    "\n",
    "from pandas import Series, DataFrame"
   ]
  },
  {
   "cell_type": "code",
   "execution_count": 4,
   "metadata": {
    "collapsed": false
   },
   "outputs": [
    {
     "data": {
      "text/plain": [
       "0    row1\n",
       "1    row2\n",
       "2     NaN\n",
       "3    row4\n",
       "4    row5\n",
       "dtype: object"
      ]
     },
     "execution_count": 4,
     "metadata": {},
     "output_type": "execute_result"
    }
   ],
   "source": [
    "# Creating a data set with missing values\n",
    "missing = np.nan\n",
    "Series_Object = Series(['row1','row2', missing, 'row4','row5'])\n",
    "Series_Object"
   ]
  },
  {
   "cell_type": "code",
   "execution_count": 5,
   "metadata": {
    "collapsed": false
   },
   "outputs": [
    {
     "data": {
      "text/plain": [
       "0    False\n",
       "1    False\n",
       "2     True\n",
       "3    False\n",
       "4    False\n",
       "dtype: bool"
      ]
     },
     "execution_count": 5,
     "metadata": {},
     "output_type": "execute_result"
    }
   ],
   "source": [
    "# Identifying Missing Values\n",
    "Series_Object.isnull()"
   ]
  },
  {
   "cell_type": "code",
   "execution_count": 6,
   "metadata": {
    "collapsed": false
   },
   "outputs": [
    {
     "data": {
      "text/html": [
       "<div>\n",
       "<table border=\"1\" class=\"dataframe\">\n",
       "  <thead>\n",
       "    <tr style=\"text-align: right;\">\n",
       "      <th></th>\n",
       "      <th>0</th>\n",
       "      <th>1</th>\n",
       "      <th>2</th>\n",
       "      <th>3</th>\n",
       "      <th>4</th>\n",
       "      <th>5</th>\n",
       "    </tr>\n",
       "  </thead>\n",
       "  <tbody>\n",
       "    <tr>\n",
       "      <th>0</th>\n",
       "      <td>0.435995</td>\n",
       "      <td>0.025926</td>\n",
       "      <td>0.549662</td>\n",
       "      <td>0.435322</td>\n",
       "      <td>0.420368</td>\n",
       "      <td>0.330335</td>\n",
       "    </tr>\n",
       "    <tr>\n",
       "      <th>1</th>\n",
       "      <td>0.204649</td>\n",
       "      <td>0.619271</td>\n",
       "      <td>0.299655</td>\n",
       "      <td>0.266827</td>\n",
       "      <td>0.621134</td>\n",
       "      <td>0.529142</td>\n",
       "    </tr>\n",
       "    <tr>\n",
       "      <th>2</th>\n",
       "      <td>0.134580</td>\n",
       "      <td>0.513578</td>\n",
       "      <td>0.184440</td>\n",
       "      <td>0.785335</td>\n",
       "      <td>0.853975</td>\n",
       "      <td>0.494237</td>\n",
       "    </tr>\n",
       "    <tr>\n",
       "      <th>3</th>\n",
       "      <td>0.846561</td>\n",
       "      <td>0.079645</td>\n",
       "      <td>0.505246</td>\n",
       "      <td>0.065287</td>\n",
       "      <td>0.428122</td>\n",
       "      <td>0.096531</td>\n",
       "    </tr>\n",
       "    <tr>\n",
       "      <th>4</th>\n",
       "      <td>0.127160</td>\n",
       "      <td>0.596745</td>\n",
       "      <td>0.226012</td>\n",
       "      <td>0.106946</td>\n",
       "      <td>0.220306</td>\n",
       "      <td>0.349826</td>\n",
       "    </tr>\n",
       "    <tr>\n",
       "      <th>5</th>\n",
       "      <td>0.467787</td>\n",
       "      <td>0.201743</td>\n",
       "      <td>0.640407</td>\n",
       "      <td>0.483070</td>\n",
       "      <td>0.505237</td>\n",
       "      <td>0.386893</td>\n",
       "    </tr>\n",
       "  </tbody>\n",
       "</table>\n",
       "</div>"
      ],
      "text/plain": [
       "          0         1         2         3         4         5\n",
       "0  0.435995  0.025926  0.549662  0.435322  0.420368  0.330335\n",
       "1  0.204649  0.619271  0.299655  0.266827  0.621134  0.529142\n",
       "2  0.134580  0.513578  0.184440  0.785335  0.853975  0.494237\n",
       "3  0.846561  0.079645  0.505246  0.065287  0.428122  0.096531\n",
       "4  0.127160  0.596745  0.226012  0.106946  0.220306  0.349826\n",
       "5  0.467787  0.201743  0.640407  0.483070  0.505237  0.386893"
      ]
     },
     "execution_count": 6,
     "metadata": {},
     "output_type": "execute_result"
    }
   ],
   "source": [
    "# Filling in the missing values\n",
    "# We first create a DataFrame object\n",
    "np.random.seed(2)\n",
    "DF_Object = DataFrame(np.random.rand(36).reshape(6,6))\n",
    "DF_Object"
   ]
  },
  {
   "cell_type": "code",
   "execution_count": 9,
   "metadata": {
    "collapsed": false
   },
   "outputs": [
    {
     "data": {
      "text/html": [
       "<div>\n",
       "<table border=\"1\" class=\"dataframe\">\n",
       "  <thead>\n",
       "    <tr style=\"text-align: right;\">\n",
       "      <th></th>\n",
       "      <th>0</th>\n",
       "      <th>1</th>\n",
       "      <th>2</th>\n",
       "      <th>3</th>\n",
       "      <th>4</th>\n",
       "      <th>5</th>\n",
       "    </tr>\n",
       "  </thead>\n",
       "  <tbody>\n",
       "    <tr>\n",
       "      <th>0</th>\n",
       "      <td>0.435995</td>\n",
       "      <td>0.025926</td>\n",
       "      <td>0.549662</td>\n",
       "      <td>0.435322</td>\n",
       "      <td>0.420368</td>\n",
       "      <td>0.330335</td>\n",
       "    </tr>\n",
       "    <tr>\n",
       "      <th>1</th>\n",
       "      <td>0.204649</td>\n",
       "      <td>0.619271</td>\n",
       "      <td>0.299655</td>\n",
       "      <td>0.266827</td>\n",
       "      <td>0.621134</td>\n",
       "      <td>NaN</td>\n",
       "    </tr>\n",
       "    <tr>\n",
       "      <th>2</th>\n",
       "      <td>0.134580</td>\n",
       "      <td>0.513578</td>\n",
       "      <td>0.184440</td>\n",
       "      <td>0.785335</td>\n",
       "      <td>0.853975</td>\n",
       "      <td>NaN</td>\n",
       "    </tr>\n",
       "    <tr>\n",
       "      <th>3</th>\n",
       "      <td>NaN</td>\n",
       "      <td>0.079645</td>\n",
       "      <td>0.505246</td>\n",
       "      <td>0.065287</td>\n",
       "      <td>0.428122</td>\n",
       "      <td>NaN</td>\n",
       "    </tr>\n",
       "    <tr>\n",
       "      <th>4</th>\n",
       "      <td>NaN</td>\n",
       "      <td>0.596745</td>\n",
       "      <td>0.226012</td>\n",
       "      <td>0.106946</td>\n",
       "      <td>0.220306</td>\n",
       "      <td>NaN</td>\n",
       "    </tr>\n",
       "    <tr>\n",
       "      <th>5</th>\n",
       "      <td>NaN</td>\n",
       "      <td>0.201743</td>\n",
       "      <td>0.640407</td>\n",
       "      <td>0.483070</td>\n",
       "      <td>0.505237</td>\n",
       "      <td>0.386893</td>\n",
       "    </tr>\n",
       "  </tbody>\n",
       "</table>\n",
       "</div>"
      ],
      "text/plain": [
       "          0         1         2         3         4         5\n",
       "0  0.435995  0.025926  0.549662  0.435322  0.420368  0.330335\n",
       "1  0.204649  0.619271  0.299655  0.266827  0.621134       NaN\n",
       "2  0.134580  0.513578  0.184440  0.785335  0.853975       NaN\n",
       "3       NaN  0.079645  0.505246  0.065287  0.428122       NaN\n",
       "4       NaN  0.596745  0.226012  0.106946  0.220306       NaN\n",
       "5       NaN  0.201743  0.640407  0.483070  0.505237  0.386893"
      ]
     },
     "execution_count": 9,
     "metadata": {},
     "output_type": "execute_result"
    }
   ],
   "source": [
    "# Creating missing values in Data Frame\n",
    "DF_Object.ix[3:5,0] = missing\n",
    "DF_Object.ix[1:4,5] = missing\n",
    "DF_Object"
   ]
  },
  {
   "cell_type": "code",
   "execution_count": 10,
   "metadata": {
    "collapsed": false
   },
   "outputs": [
    {
     "data": {
      "text/html": [
       "<div>\n",
       "<table border=\"1\" class=\"dataframe\">\n",
       "  <thead>\n",
       "    <tr style=\"text-align: right;\">\n",
       "      <th></th>\n",
       "      <th>0</th>\n",
       "      <th>1</th>\n",
       "      <th>2</th>\n",
       "      <th>3</th>\n",
       "      <th>4</th>\n",
       "      <th>5</th>\n",
       "    </tr>\n",
       "  </thead>\n",
       "  <tbody>\n",
       "    <tr>\n",
       "      <th>0</th>\n",
       "      <td>0.435995</td>\n",
       "      <td>0.025926</td>\n",
       "      <td>0.549662</td>\n",
       "      <td>0.435322</td>\n",
       "      <td>0.420368</td>\n",
       "      <td>0.330335</td>\n",
       "    </tr>\n",
       "    <tr>\n",
       "      <th>1</th>\n",
       "      <td>0.204649</td>\n",
       "      <td>0.619271</td>\n",
       "      <td>0.299655</td>\n",
       "      <td>0.266827</td>\n",
       "      <td>0.621134</td>\n",
       "      <td>0.000000</td>\n",
       "    </tr>\n",
       "    <tr>\n",
       "      <th>2</th>\n",
       "      <td>0.134580</td>\n",
       "      <td>0.513578</td>\n",
       "      <td>0.184440</td>\n",
       "      <td>0.785335</td>\n",
       "      <td>0.853975</td>\n",
       "      <td>0.000000</td>\n",
       "    </tr>\n",
       "    <tr>\n",
       "      <th>3</th>\n",
       "      <td>0.000000</td>\n",
       "      <td>0.079645</td>\n",
       "      <td>0.505246</td>\n",
       "      <td>0.065287</td>\n",
       "      <td>0.428122</td>\n",
       "      <td>0.000000</td>\n",
       "    </tr>\n",
       "    <tr>\n",
       "      <th>4</th>\n",
       "      <td>0.000000</td>\n",
       "      <td>0.596745</td>\n",
       "      <td>0.226012</td>\n",
       "      <td>0.106946</td>\n",
       "      <td>0.220306</td>\n",
       "      <td>0.000000</td>\n",
       "    </tr>\n",
       "    <tr>\n",
       "      <th>5</th>\n",
       "      <td>0.000000</td>\n",
       "      <td>0.201743</td>\n",
       "      <td>0.640407</td>\n",
       "      <td>0.483070</td>\n",
       "      <td>0.505237</td>\n",
       "      <td>0.386893</td>\n",
       "    </tr>\n",
       "  </tbody>\n",
       "</table>\n",
       "</div>"
      ],
      "text/plain": [
       "          0         1         2         3         4         5\n",
       "0  0.435995  0.025926  0.549662  0.435322  0.420368  0.330335\n",
       "1  0.204649  0.619271  0.299655  0.266827  0.621134  0.000000\n",
       "2  0.134580  0.513578  0.184440  0.785335  0.853975  0.000000\n",
       "3  0.000000  0.079645  0.505246  0.065287  0.428122  0.000000\n",
       "4  0.000000  0.596745  0.226012  0.106946  0.220306  0.000000\n",
       "5  0.000000  0.201743  0.640407  0.483070  0.505237  0.386893"
      ]
     },
     "execution_count": 10,
     "metadata": {},
     "output_type": "execute_result"
    }
   ],
   "source": [
    "# Fill NaN with specific values\n",
    "FilledDataFrame = DF_Object.fillna(0)\n",
    "FilledDataFrame"
   ]
  },
  {
   "cell_type": "code",
   "execution_count": 13,
   "metadata": {
    "collapsed": false
   },
   "outputs": [
    {
     "data": {
      "text/html": [
       "<div>\n",
       "<table border=\"1\" class=\"dataframe\">\n",
       "  <thead>\n",
       "    <tr style=\"text-align: right;\">\n",
       "      <th></th>\n",
       "      <th>0</th>\n",
       "      <th>1</th>\n",
       "      <th>2</th>\n",
       "      <th>3</th>\n",
       "      <th>4</th>\n",
       "      <th>5</th>\n",
       "    </tr>\n",
       "  </thead>\n",
       "  <tbody>\n",
       "    <tr>\n",
       "      <th>0</th>\n",
       "      <td>0.435995</td>\n",
       "      <td>0.025926</td>\n",
       "      <td>0.549662</td>\n",
       "      <td>0.435322</td>\n",
       "      <td>0.420368</td>\n",
       "      <td>0.330335</td>\n",
       "    </tr>\n",
       "    <tr>\n",
       "      <th>1</th>\n",
       "      <td>0.204649</td>\n",
       "      <td>0.619271</td>\n",
       "      <td>0.299655</td>\n",
       "      <td>0.266827</td>\n",
       "      <td>0.621134</td>\n",
       "      <td>99.000000</td>\n",
       "    </tr>\n",
       "    <tr>\n",
       "      <th>2</th>\n",
       "      <td>0.134580</td>\n",
       "      <td>0.513578</td>\n",
       "      <td>0.184440</td>\n",
       "      <td>0.785335</td>\n",
       "      <td>0.853975</td>\n",
       "      <td>99.000000</td>\n",
       "    </tr>\n",
       "    <tr>\n",
       "      <th>3</th>\n",
       "      <td>44.000000</td>\n",
       "      <td>0.079645</td>\n",
       "      <td>0.505246</td>\n",
       "      <td>0.065287</td>\n",
       "      <td>0.428122</td>\n",
       "      <td>99.000000</td>\n",
       "    </tr>\n",
       "    <tr>\n",
       "      <th>4</th>\n",
       "      <td>44.000000</td>\n",
       "      <td>0.596745</td>\n",
       "      <td>0.226012</td>\n",
       "      <td>0.106946</td>\n",
       "      <td>0.220306</td>\n",
       "      <td>99.000000</td>\n",
       "    </tr>\n",
       "    <tr>\n",
       "      <th>5</th>\n",
       "      <td>44.000000</td>\n",
       "      <td>0.201743</td>\n",
       "      <td>0.640407</td>\n",
       "      <td>0.483070</td>\n",
       "      <td>0.505237</td>\n",
       "      <td>0.386893</td>\n",
       "    </tr>\n",
       "  </tbody>\n",
       "</table>\n",
       "</div>"
      ],
      "text/plain": [
       "           0         1         2         3         4          5\n",
       "0   0.435995  0.025926  0.549662  0.435322  0.420368   0.330335\n",
       "1   0.204649  0.619271  0.299655  0.266827  0.621134  99.000000\n",
       "2   0.134580  0.513578  0.184440  0.785335  0.853975  99.000000\n",
       "3  44.000000  0.079645  0.505246  0.065287  0.428122  99.000000\n",
       "4  44.000000  0.596745  0.226012  0.106946  0.220306  99.000000\n",
       "5  44.000000  0.201743  0.640407  0.483070  0.505237   0.386893"
      ]
     },
     "execution_count": 13,
     "metadata": {},
     "output_type": "execute_result"
    }
   ],
   "source": [
    "# We can fill in NaN with unique values using Dictionary object\n",
    "# In 0th column, missing values would be filled with 44 and in 5th column with 99\n",
    "ReFilledDataFrame = DF_Object.fillna({0:44,5:99})\n",
    "ReFilledDataFrame"
   ]
  },
  {
   "cell_type": "code",
   "execution_count": 14,
   "metadata": {
    "collapsed": false
   },
   "outputs": [
    {
     "data": {
      "text/html": [
       "<div>\n",
       "<table border=\"1\" class=\"dataframe\">\n",
       "  <thead>\n",
       "    <tr style=\"text-align: right;\">\n",
       "      <th></th>\n",
       "      <th>0</th>\n",
       "      <th>1</th>\n",
       "      <th>2</th>\n",
       "      <th>3</th>\n",
       "      <th>4</th>\n",
       "      <th>5</th>\n",
       "    </tr>\n",
       "  </thead>\n",
       "  <tbody>\n",
       "    <tr>\n",
       "      <th>0</th>\n",
       "      <td>0.435995</td>\n",
       "      <td>0.025926</td>\n",
       "      <td>0.549662</td>\n",
       "      <td>0.435322</td>\n",
       "      <td>0.420368</td>\n",
       "      <td>0.330335</td>\n",
       "    </tr>\n",
       "    <tr>\n",
       "      <th>1</th>\n",
       "      <td>0.204649</td>\n",
       "      <td>0.619271</td>\n",
       "      <td>0.299655</td>\n",
       "      <td>0.266827</td>\n",
       "      <td>0.621134</td>\n",
       "      <td>0.330335</td>\n",
       "    </tr>\n",
       "    <tr>\n",
       "      <th>2</th>\n",
       "      <td>0.134580</td>\n",
       "      <td>0.513578</td>\n",
       "      <td>0.184440</td>\n",
       "      <td>0.785335</td>\n",
       "      <td>0.853975</td>\n",
       "      <td>0.330335</td>\n",
       "    </tr>\n",
       "    <tr>\n",
       "      <th>3</th>\n",
       "      <td>0.134580</td>\n",
       "      <td>0.079645</td>\n",
       "      <td>0.505246</td>\n",
       "      <td>0.065287</td>\n",
       "      <td>0.428122</td>\n",
       "      <td>0.330335</td>\n",
       "    </tr>\n",
       "    <tr>\n",
       "      <th>4</th>\n",
       "      <td>0.134580</td>\n",
       "      <td>0.596745</td>\n",
       "      <td>0.226012</td>\n",
       "      <td>0.106946</td>\n",
       "      <td>0.220306</td>\n",
       "      <td>0.330335</td>\n",
       "    </tr>\n",
       "    <tr>\n",
       "      <th>5</th>\n",
       "      <td>0.134580</td>\n",
       "      <td>0.201743</td>\n",
       "      <td>0.640407</td>\n",
       "      <td>0.483070</td>\n",
       "      <td>0.505237</td>\n",
       "      <td>0.386893</td>\n",
       "    </tr>\n",
       "  </tbody>\n",
       "</table>\n",
       "</div>"
      ],
      "text/plain": [
       "          0         1         2         3         4         5\n",
       "0  0.435995  0.025926  0.549662  0.435322  0.420368  0.330335\n",
       "1  0.204649  0.619271  0.299655  0.266827  0.621134  0.330335\n",
       "2  0.134580  0.513578  0.184440  0.785335  0.853975  0.330335\n",
       "3  0.134580  0.079645  0.505246  0.065287  0.428122  0.330335\n",
       "4  0.134580  0.596745  0.226012  0.106946  0.220306  0.330335\n",
       "5  0.134580  0.201743  0.640407  0.483070  0.505237  0.386893"
      ]
     },
     "execution_count": 14,
     "metadata": {},
     "output_type": "execute_result"
    }
   ],
   "source": [
    "# We can fill NaN with last not null value from the same column using forward fill\n",
    "ReFillDataFrame = DF_Object.fillna(method = 'ffill')\n",
    "ReFillDataFrame"
   ]
  },
  {
   "cell_type": "code",
   "execution_count": 16,
   "metadata": {
    "collapsed": false
   },
   "outputs": [
    {
     "data": {
      "text/html": [
       "<div>\n",
       "<table border=\"1\" class=\"dataframe\">\n",
       "  <thead>\n",
       "    <tr style=\"text-align: right;\">\n",
       "      <th></th>\n",
       "      <th>0</th>\n",
       "      <th>1</th>\n",
       "      <th>2</th>\n",
       "      <th>3</th>\n",
       "      <th>4</th>\n",
       "      <th>5</th>\n",
       "    </tr>\n",
       "  </thead>\n",
       "  <tbody>\n",
       "    <tr>\n",
       "      <th>0</th>\n",
       "      <td>0.435995</td>\n",
       "      <td>0.025926</td>\n",
       "      <td>0.549662</td>\n",
       "      <td>0.435322</td>\n",
       "      <td>0.420368</td>\n",
       "      <td>0.330335</td>\n",
       "    </tr>\n",
       "    <tr>\n",
       "      <th>1</th>\n",
       "      <td>0.204649</td>\n",
       "      <td>0.619271</td>\n",
       "      <td>0.299655</td>\n",
       "      <td>0.266827</td>\n",
       "      <td>0.621134</td>\n",
       "      <td>NaN</td>\n",
       "    </tr>\n",
       "    <tr>\n",
       "      <th>2</th>\n",
       "      <td>0.134580</td>\n",
       "      <td>0.513578</td>\n",
       "      <td>0.184440</td>\n",
       "      <td>0.785335</td>\n",
       "      <td>0.853975</td>\n",
       "      <td>NaN</td>\n",
       "    </tr>\n",
       "    <tr>\n",
       "      <th>3</th>\n",
       "      <td>NaN</td>\n",
       "      <td>0.079645</td>\n",
       "      <td>0.505246</td>\n",
       "      <td>0.065287</td>\n",
       "      <td>0.428122</td>\n",
       "      <td>NaN</td>\n",
       "    </tr>\n",
       "    <tr>\n",
       "      <th>4</th>\n",
       "      <td>NaN</td>\n",
       "      <td>0.596745</td>\n",
       "      <td>0.226012</td>\n",
       "      <td>0.106946</td>\n",
       "      <td>0.220306</td>\n",
       "      <td>NaN</td>\n",
       "    </tr>\n",
       "    <tr>\n",
       "      <th>5</th>\n",
       "      <td>NaN</td>\n",
       "      <td>0.201743</td>\n",
       "      <td>0.640407</td>\n",
       "      <td>0.483070</td>\n",
       "      <td>0.505237</td>\n",
       "      <td>0.386893</td>\n",
       "    </tr>\n",
       "  </tbody>\n",
       "</table>\n",
       "</div>"
      ],
      "text/plain": [
       "          0         1         2         3         4         5\n",
       "0  0.435995  0.025926  0.549662  0.435322  0.420368  0.330335\n",
       "1  0.204649  0.619271  0.299655  0.266827  0.621134       NaN\n",
       "2  0.134580  0.513578  0.184440  0.785335  0.853975       NaN\n",
       "3       NaN  0.079645  0.505246  0.065287  0.428122       NaN\n",
       "4       NaN  0.596745  0.226012  0.106946  0.220306       NaN\n",
       "5       NaN  0.201743  0.640407  0.483070  0.505237  0.386893"
      ]
     },
     "execution_count": 16,
     "metadata": {},
     "output_type": "execute_result"
    }
   ],
   "source": [
    "# Counting Missing Values for summary statistics\n",
    "np.random.seed(2)\n",
    "DF_Object = DataFrame(np.random.rand(36).reshape(6,6))\n",
    "DF_Object\n",
    "# Creating missing values in Data Frame\n",
    "DF_Object.ix[3:5,0] = missing\n",
    "DF_Object.ix[1:4,5] = missing\n",
    "DF_Object"
   ]
  },
  {
   "cell_type": "code",
   "execution_count": 17,
   "metadata": {
    "collapsed": false
   },
   "outputs": [
    {
     "data": {
      "text/plain": [
       "0    3\n",
       "1    0\n",
       "2    0\n",
       "3    0\n",
       "4    0\n",
       "5    4\n",
       "dtype: int64"
      ]
     },
     "execution_count": 17,
     "metadata": {},
     "output_type": "execute_result"
    }
   ],
   "source": [
    "DF_Object.isnull().sum() # count of missing values"
   ]
  },
  {
   "cell_type": "code",
   "execution_count": 19,
   "metadata": {
    "collapsed": false
   },
   "outputs": [
    {
     "data": {
      "text/html": [
       "<div>\n",
       "<table border=\"1\" class=\"dataframe\">\n",
       "  <thead>\n",
       "    <tr style=\"text-align: right;\">\n",
       "      <th></th>\n",
       "      <th>0</th>\n",
       "      <th>1</th>\n",
       "      <th>2</th>\n",
       "      <th>3</th>\n",
       "      <th>4</th>\n",
       "      <th>5</th>\n",
       "    </tr>\n",
       "  </thead>\n",
       "  <tbody>\n",
       "    <tr>\n",
       "      <th>0</th>\n",
       "      <td>0.435995</td>\n",
       "      <td>0.025926</td>\n",
       "      <td>0.549662</td>\n",
       "      <td>0.435322</td>\n",
       "      <td>0.420368</td>\n",
       "      <td>0.330335</td>\n",
       "    </tr>\n",
       "  </tbody>\n",
       "</table>\n",
       "</div>"
      ],
      "text/plain": [
       "          0         1         2         3         4         5\n",
       "0  0.435995  0.025926  0.549662  0.435322  0.420368  0.330335"
      ]
     },
     "execution_count": 19,
     "metadata": {},
     "output_type": "execute_result"
    }
   ],
   "source": [
    "DF_Object_NoNaN = DF_Object.dropna() # this drops from rows\n",
    "DF_Object_NoNaN"
   ]
  },
  {
   "cell_type": "code",
   "execution_count": 20,
   "metadata": {
    "collapsed": false
   },
   "outputs": [
    {
     "data": {
      "text/html": [
       "<div>\n",
       "<table border=\"1\" class=\"dataframe\">\n",
       "  <thead>\n",
       "    <tr style=\"text-align: right;\">\n",
       "      <th></th>\n",
       "      <th>1</th>\n",
       "      <th>2</th>\n",
       "      <th>3</th>\n",
       "      <th>4</th>\n",
       "    </tr>\n",
       "  </thead>\n",
       "  <tbody>\n",
       "    <tr>\n",
       "      <th>0</th>\n",
       "      <td>0.025926</td>\n",
       "      <td>0.549662</td>\n",
       "      <td>0.435322</td>\n",
       "      <td>0.420368</td>\n",
       "    </tr>\n",
       "    <tr>\n",
       "      <th>1</th>\n",
       "      <td>0.619271</td>\n",
       "      <td>0.299655</td>\n",
       "      <td>0.266827</td>\n",
       "      <td>0.621134</td>\n",
       "    </tr>\n",
       "    <tr>\n",
       "      <th>2</th>\n",
       "      <td>0.513578</td>\n",
       "      <td>0.184440</td>\n",
       "      <td>0.785335</td>\n",
       "      <td>0.853975</td>\n",
       "    </tr>\n",
       "    <tr>\n",
       "      <th>3</th>\n",
       "      <td>0.079645</td>\n",
       "      <td>0.505246</td>\n",
       "      <td>0.065287</td>\n",
       "      <td>0.428122</td>\n",
       "    </tr>\n",
       "    <tr>\n",
       "      <th>4</th>\n",
       "      <td>0.596745</td>\n",
       "      <td>0.226012</td>\n",
       "      <td>0.106946</td>\n",
       "      <td>0.220306</td>\n",
       "    </tr>\n",
       "    <tr>\n",
       "      <th>5</th>\n",
       "      <td>0.201743</td>\n",
       "      <td>0.640407</td>\n",
       "      <td>0.483070</td>\n",
       "      <td>0.505237</td>\n",
       "    </tr>\n",
       "  </tbody>\n",
       "</table>\n",
       "</div>"
      ],
      "text/plain": [
       "          1         2         3         4\n",
       "0  0.025926  0.549662  0.435322  0.420368\n",
       "1  0.619271  0.299655  0.266827  0.621134\n",
       "2  0.513578  0.184440  0.785335  0.853975\n",
       "3  0.079645  0.505246  0.065287  0.428122\n",
       "4  0.596745  0.226012  0.106946  0.220306\n",
       "5  0.201743  0.640407  0.483070  0.505237"
      ]
     },
     "execution_count": 20,
     "metadata": {},
     "output_type": "execute_result"
    }
   ],
   "source": [
    "DF_Object_NoNaN = DF_Object.dropna( axis =1) # this drops the columns\n",
    "DF_Object_NoNaN"
   ]
  },
  {
   "cell_type": "code",
   "execution_count": 21,
   "metadata": {
    "collapsed": false
   },
   "outputs": [
    {
     "data": {
      "text/html": [
       "<div>\n",
       "<table border=\"1\" class=\"dataframe\">\n",
       "  <thead>\n",
       "    <tr style=\"text-align: right;\">\n",
       "      <th></th>\n",
       "      <th>0</th>\n",
       "      <th>1</th>\n",
       "      <th>2</th>\n",
       "      <th>3</th>\n",
       "      <th>4</th>\n",
       "      <th>5</th>\n",
       "    </tr>\n",
       "  </thead>\n",
       "  <tbody>\n",
       "    <tr>\n",
       "      <th>0</th>\n",
       "      <td>0.435995</td>\n",
       "      <td>0.025926</td>\n",
       "      <td>0.549662</td>\n",
       "      <td>0.435322</td>\n",
       "      <td>0.420368</td>\n",
       "      <td>0.330335</td>\n",
       "    </tr>\n",
       "    <tr>\n",
       "      <th>1</th>\n",
       "      <td>0.204649</td>\n",
       "      <td>0.619271</td>\n",
       "      <td>0.299655</td>\n",
       "      <td>0.266827</td>\n",
       "      <td>0.621134</td>\n",
       "      <td>NaN</td>\n",
       "    </tr>\n",
       "    <tr>\n",
       "      <th>2</th>\n",
       "      <td>0.134580</td>\n",
       "      <td>0.513578</td>\n",
       "      <td>0.184440</td>\n",
       "      <td>0.785335</td>\n",
       "      <td>0.853975</td>\n",
       "      <td>NaN</td>\n",
       "    </tr>\n",
       "    <tr>\n",
       "      <th>3</th>\n",
       "      <td>NaN</td>\n",
       "      <td>0.079645</td>\n",
       "      <td>0.505246</td>\n",
       "      <td>0.065287</td>\n",
       "      <td>0.428122</td>\n",
       "      <td>NaN</td>\n",
       "    </tr>\n",
       "    <tr>\n",
       "      <th>4</th>\n",
       "      <td>NaN</td>\n",
       "      <td>0.596745</td>\n",
       "      <td>0.226012</td>\n",
       "      <td>0.106946</td>\n",
       "      <td>0.220306</td>\n",
       "      <td>NaN</td>\n",
       "    </tr>\n",
       "    <tr>\n",
       "      <th>5</th>\n",
       "      <td>NaN</td>\n",
       "      <td>0.201743</td>\n",
       "      <td>0.640407</td>\n",
       "      <td>0.483070</td>\n",
       "      <td>0.505237</td>\n",
       "      <td>0.386893</td>\n",
       "    </tr>\n",
       "  </tbody>\n",
       "</table>\n",
       "</div>"
      ],
      "text/plain": [
       "          0         1         2         3         4         5\n",
       "0  0.435995  0.025926  0.549662  0.435322  0.420368  0.330335\n",
       "1  0.204649  0.619271  0.299655  0.266827  0.621134       NaN\n",
       "2  0.134580  0.513578  0.184440  0.785335  0.853975       NaN\n",
       "3       NaN  0.079645  0.505246  0.065287  0.428122       NaN\n",
       "4       NaN  0.596745  0.226012  0.106946  0.220306       NaN\n",
       "5       NaN  0.201743  0.640407  0.483070  0.505237  0.386893"
      ]
     },
     "execution_count": 21,
     "metadata": {},
     "output_type": "execute_result"
    }
   ],
   "source": [
    "DF_Object_NoNaN = DF_Object.dropna(how='all') # drop rows only when all values are null\n",
    "DF_Object_NoNaN"
   ]
  }
 ],
 "metadata": {
  "kernelspec": {
   "display_name": "Python 3",
   "language": "python",
   "name": "python3"
  },
  "language_info": {
   "codemirror_mode": {
    "name": "ipython",
    "version": 3
   },
   "file_extension": ".py",
   "mimetype": "text/x-python",
   "name": "python",
   "nbconvert_exporter": "python",
   "pygments_lexer": "ipython3",
   "version": "3.6.0"
  }
 },
 "nbformat": 4,
 "nbformat_minor": 2
}
