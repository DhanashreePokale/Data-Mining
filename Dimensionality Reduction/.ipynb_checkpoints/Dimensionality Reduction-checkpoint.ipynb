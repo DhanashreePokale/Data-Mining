{
 "cells": [
  {
   "cell_type": "markdown",
   "metadata": {},
   "source": [
    "# Dimensionality Reduction\n",
    "\n",
    "This is a part of machine learning algorithms. There are several machine learning algorithms as mentioned below-\n",
    "    1. Deep Learning\n",
    "    2. Ensemble\n",
    "    3. Neural Networks\n",
    "    4. Regression \n",
    "    5. Decision Tree\n",
    "    6. Bayesian\n",
    "    7. Regularization\n",
    "    8. Rule System\n",
    "    9. Dimension Reduction\n",
    "    10. Instance Based\n",
    "    11. Clustering\n",
    "    \n",
    "Topics covered here are Regression, Bayesian, Dimension Reduction, Instance Based & Clustering\n",
    "\n",
    "1. Regression - Includes Linear and Logistic\n",
    "2. Bayesian - Includes Naive Bayes(Gaussian, Bernoulli & Multinomial)\n",
    "3. Dimension Reduction - Includes PCA\n",
    "4. Instance Based -Includes k-Nearest Neighbor\n",
    "5. Clustering - Includes kmeans, hierarchical, Density-Based Spatial Clustering of Applications (DBSCAN)\n",
    "\n",
    "Machine Learning Lingo\n",
    "1. Feature - variables/column names\n",
    "2. Instances - rows/observations\n",
    "3. target - dependent variable\n",
    "4. data - set of predictor variables\n",
    "\n",
    "Machine Learning uses Sampling technique to create train and test datasets.\n",
    "\n",
    "Supervised ML - Makes predictions from labeled data\n",
    "Unsupervised ML - Makes predictions from unlabeled data\n"
   ]
  },
  {
   "cell_type": "markdown",
   "metadata": {},
   "source": [
    "# Factor Analysis\n",
    "A method used to explore datasets to find root causes that explain why data is acting in certain way.\n",
    "\n",
    "Assumptions of Factor Analysis:\n",
    "1. Features are metric\n",
    "2. Features are continuous or ordinal\n",
    "3. There is r >0.3 correlation between features in your dataset\n",
    "4. You have >100 observations and >5 observations per feature\n",
    "5. Sample is homogenous\n",
    "\n",
    "\n",
    "We will use Iris dataset. \n",
    "It has Iris Flowers (labels) : Setosa, Versicolor, Virginica\n",
    "Attributes: Sepal Length, Sepal Width, Petal Length, Petal Width\n"
   ]
  },
  {
   "cell_type": "code",
   "execution_count": 33,
   "metadata": {
    "collapsed": true
   },
   "outputs": [],
   "source": [
    "import numpy as np\n",
    "import pandas as pd\n",
    "import sklearn \n",
    "from sklearn.decomposition import FactorAnalysis\n",
    "from sklearn.decomposition import PCA\n",
    "\n",
    "from sklearn import datasets"
   ]
  },
  {
   "cell_type": "code",
   "execution_count": 34,
   "metadata": {
    "collapsed": false
   },
   "outputs": [
    {
     "data": {
      "text/plain": [
       "array([[ 5.1,  3.5,  1.4,  0.2],\n",
       "       [ 4.9,  3. ,  1.4,  0.2],\n",
       "       [ 4.7,  3.2,  1.3,  0.2],\n",
       "       [ 4.6,  3.1,  1.5,  0.2],\n",
       "       [ 5. ,  3.6,  1.4,  0.2],\n",
       "       [ 5.4,  3.9,  1.7,  0.4],\n",
       "       [ 4.6,  3.4,  1.4,  0.3],\n",
       "       [ 5. ,  3.4,  1.5,  0.2],\n",
       "       [ 4.4,  2.9,  1.4,  0.2],\n",
       "       [ 4.9,  3.1,  1.5,  0.1]])"
      ]
     },
     "execution_count": 34,
     "metadata": {},
     "output_type": "execute_result"
    }
   ],
   "source": [
    "# Factor Analysis\n",
    "iris = datasets.load_iris()\n",
    "\n",
    "X= iris.data\n",
    "variable_names = iris.feature_names\n",
    "X[0:10,]"
   ]
  },
  {
   "cell_type": "code",
   "execution_count": 35,
   "metadata": {
    "collapsed": false
   },
   "outputs": [
    {
     "data": {
      "text/html": [
       "<div>\n",
       "<table border=\"1\" class=\"dataframe\">\n",
       "  <thead>\n",
       "    <tr style=\"text-align: right;\">\n",
       "      <th></th>\n",
       "      <th>sepal length (cm)</th>\n",
       "      <th>sepal width (cm)</th>\n",
       "      <th>petal length (cm)</th>\n",
       "      <th>petal width (cm)</th>\n",
       "    </tr>\n",
       "  </thead>\n",
       "  <tbody>\n",
       "    <tr>\n",
       "      <th>0</th>\n",
       "      <td>0.707227</td>\n",
       "      <td>-0.153147</td>\n",
       "      <td>1.653151</td>\n",
       "      <td>0.701569</td>\n",
       "    </tr>\n",
       "    <tr>\n",
       "      <th>1</th>\n",
       "      <td>0.114676</td>\n",
       "      <td>0.159763</td>\n",
       "      <td>-0.045604</td>\n",
       "      <td>-0.014052</td>\n",
       "    </tr>\n",
       "    <tr>\n",
       "      <th>2</th>\n",
       "      <td>-0.000000</td>\n",
       "      <td>0.000000</td>\n",
       "      <td>0.000000</td>\n",
       "      <td>0.000000</td>\n",
       "    </tr>\n",
       "    <tr>\n",
       "      <th>3</th>\n",
       "      <td>-0.000000</td>\n",
       "      <td>0.000000</td>\n",
       "      <td>0.000000</td>\n",
       "      <td>-0.000000</td>\n",
       "    </tr>\n",
       "  </tbody>\n",
       "</table>\n",
       "</div>"
      ],
      "text/plain": [
       "   sepal length (cm)  sepal width (cm)  petal length (cm)  petal width (cm)\n",
       "0           0.707227         -0.153147           1.653151          0.701569\n",
       "1           0.114676          0.159763          -0.045604         -0.014052\n",
       "2          -0.000000          0.000000           0.000000          0.000000\n",
       "3          -0.000000          0.000000           0.000000         -0.000000"
      ]
     },
     "execution_count": 35,
     "metadata": {},
     "output_type": "execute_result"
    }
   ],
   "source": [
    "factor = FactorAnalysis().fit(X)\n",
    "\n",
    "pd.DataFrame(factor.components_,columns= variable_names)"
   ]
  },
  {
   "cell_type": "markdown",
   "metadata": {},
   "source": [
    "# Principal Component Analysis\n",
    "\n",
    "Singular Value Decomposition (SVD): A linear algebra method that decomposes  a matrix into 3 resultant matrices  to reduce information redundcy and noise.\n",
    "\n",
    "Anatomy of  SVD:\n",
    "A = original matrix\n",
    "We break the original matrix into 3 matrices u, S and v\n",
    "u is a left orthogonal matrix, holds important, non redundant information about observations\n",
    "v is a right orthogonal matrix, holds important, non redundant information about features\n",
    "S is a diagonal matrix, contains all the information about decomposition processes performed during compression\n",
    "\n",
    "What is PCA?\n",
    "    Uncorrelated features that embody a dataset's important information (its \"variance\") with the redundancy, noise, outliers stripped out.\n",
    "    \n",
    "PCA can be used for \n",
    "1. Fraud Detection\n",
    "2. Spam Detection\n",
    "3. Image Recognition\n",
    "4. Speech Recognition\n",
    "\n",
    "\n"
   ]
  },
  {
   "cell_type": "code",
   "execution_count": 36,
   "metadata": {
    "collapsed": true
   },
   "outputs": [],
   "source": [
    "from matplotlib import rcParams\n",
    "import seaborn as sb\n",
    "\n",
    "\n",
    "import sklearn \n",
    "from sklearn import preprocessing\n",
    "from sklearn.preprocessing import scale\n",
    "from sklearn.decomposition import PCA\n",
    " # this lets plots to be plotted in same window\n",
    "%matplotlib inline\n",
    "rcParams['figure.figsize'] = 7, 5 # 5 inch cross 4 inch figures\n",
    "sb.set_style('whitegrid')"
   ]
  },
  {
   "cell_type": "code",
   "execution_count": 37,
   "metadata": {
    "collapsed": false
   },
   "outputs": [
    {
     "data": {
      "text/plain": [
       "array([ 0.92461621,  0.05301557,  0.01718514,  0.00518309])"
      ]
     },
     "execution_count": 37,
     "metadata": {},
     "output_type": "execute_result"
    }
   ],
   "source": [
    "pca = sklearn.decomposition.PCA()\n",
    "iris_pca = pca.fit_transform(X)\n",
    "\n",
    "pca.explained_variance_ratio_\n",
    "\n",
    "# explained variance ratio means how much information is compressed in  first few components\n"
   ]
  },
  {
   "cell_type": "code",
   "execution_count": 38,
   "metadata": {
    "collapsed": false
   },
   "outputs": [
    {
     "data": {
      "text/plain": [
       "1.0"
      ]
     },
     "execution_count": 38,
     "metadata": {},
     "output_type": "execute_result"
    }
   ],
   "source": [
    "pca.explained_variance_ratio_.sum()\n",
    "\n",
    "# this is cumulative variance. \n",
    "# Goal is to keep only first few important components. \n"
   ]
  },
  {
   "cell_type": "code",
   "execution_count": 39,
   "metadata": {
    "collapsed": false
   },
   "outputs": [
    {
     "data": {
      "text/html": [
       "<div>\n",
       "<table border=\"1\" class=\"dataframe\">\n",
       "  <thead>\n",
       "    <tr style=\"text-align: right;\">\n",
       "      <th></th>\n",
       "      <th>sepal length (cm)</th>\n",
       "      <th>sepal width (cm)</th>\n",
       "      <th>petal length (cm)</th>\n",
       "      <th>petal width (cm)</th>\n",
       "    </tr>\n",
       "  </thead>\n",
       "  <tbody>\n",
       "    <tr>\n",
       "      <th>0</th>\n",
       "      <td>0.361590</td>\n",
       "      <td>-0.082269</td>\n",
       "      <td>0.856572</td>\n",
       "      <td>0.358844</td>\n",
       "    </tr>\n",
       "    <tr>\n",
       "      <th>1</th>\n",
       "      <td>0.656540</td>\n",
       "      <td>0.729712</td>\n",
       "      <td>-0.175767</td>\n",
       "      <td>-0.074706</td>\n",
       "    </tr>\n",
       "    <tr>\n",
       "      <th>2</th>\n",
       "      <td>-0.580997</td>\n",
       "      <td>0.596418</td>\n",
       "      <td>0.072524</td>\n",
       "      <td>0.549061</td>\n",
       "    </tr>\n",
       "    <tr>\n",
       "      <th>3</th>\n",
       "      <td>0.317255</td>\n",
       "      <td>-0.324094</td>\n",
       "      <td>-0.479719</td>\n",
       "      <td>0.751121</td>\n",
       "    </tr>\n",
       "  </tbody>\n",
       "</table>\n",
       "</div>"
      ],
      "text/plain": [
       "   sepal length (cm)  sepal width (cm)  petal length (cm)  petal width (cm)\n",
       "0           0.361590         -0.082269           0.856572          0.358844\n",
       "1           0.656540          0.729712          -0.175767         -0.074706\n",
       "2          -0.580997          0.596418           0.072524          0.549061\n",
       "3           0.317255         -0.324094          -0.479719          0.751121"
      ]
     },
     "execution_count": 39,
     "metadata": {},
     "output_type": "execute_result"
    }
   ],
   "source": [
    "comps = pd.DataFrame(pca.components_, columns = variable_names)\n",
    "comps"
   ]
  },
  {
   "cell_type": "code",
   "execution_count": 40,
   "metadata": {
    "collapsed": false
   },
   "outputs": [
    {
     "data": {
      "text/plain": [
       "<matplotlib.axes._subplots.AxesSubplot at 0x118ab9e10>"
      ]
     },
     "execution_count": 40,
     "metadata": {},
     "output_type": "execute_result"
    },
    {
     "data": {
      "image/png": "[encoded data removed]",
      "text/plain": [
       "<matplotlib.figure.Figure at 0x1189bbb70>"
      ]
     },
     "metadata": {},
     "output_type": "display_data"
    }
   ],
   "source": [
    "sb.heatmap(comps)"
   ]
  }
 ],
 "metadata": {
  "kernelspec": {
   "display_name": "Python 3",
   "language": "python",
   "name": "python3"
  },
  "language_info": {
   "codemirror_mode": {
    "name": "ipython",
    "version": 3
   },
   "file_extension": ".py",
   "mimetype": "text/x-python",
   "name": "python",
   "nbconvert_exporter": "python",
   "pygments_lexer": "ipython3",
   "version": "3.6.0"
  }
 },
 "nbformat": 4,
 "nbformat_minor": 2
}
