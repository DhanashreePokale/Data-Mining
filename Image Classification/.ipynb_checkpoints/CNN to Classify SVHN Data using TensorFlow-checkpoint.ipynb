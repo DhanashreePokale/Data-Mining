{
 "cells": [
  {
   "cell_type": "markdown",
   "metadata": {},
   "source": [
    "# CAPSTONE: \n",
    "# Google Street View Image Recognition using Convolution Neural Network"
   ]
  },
  {
   "cell_type": "markdown",
   "metadata": {},
   "source": [
    "### INTRODUCTION:\n",
    "Here we use .mat file format for the SVHN data. It contains cropped digits. All the digits are resized to 32 x 32 pixels and the images have been preprocessed to not face any aspect ratio distortions. Yet, we may notice some other digit right besides the digit of our interest.\n",
    "\n",
    "Source of above information & dataset: http://ufldl.stanford.edu/housenumbers/"
   ]
  },
  {
   "cell_type": "markdown",
   "metadata": {},
   "source": [
    "### IMPORTING PYTHON LIBRARIES & DATASETS:\n",
    "1. We start by importing essential python libraries. The purpose of every library has been indicated in the comment beside the code.\n",
    "2. Then we load train, test and extra data and store it in Train_mat, Test_mat, Extra_mat dataframes."
   ]
  },
  {
   "cell_type": "code",
   "execution_count": 2,
   "metadata": {
    "collapsed": true
   },
   "outputs": [],
   "source": [
    "import scipy.io # we use this python library for loading data from matlab file.\n",
    "import numpy as np # library is used for scientific computing; it has high performance multi-dimensional array object.\n",
    "import matplotlib.pyplot as plt # it is a plotting library; plotting system is similar to that of MATLAB. \n",
    "Train_mat = scipy.io.loadmat('/Users/dhanashreepokale/Downloads/Capstone/train_32x32.mat') # load Training dataset\n",
    "Test_mat = scipy.io.loadmat('/Users/dhanashreepokale/Downloads/Capstone/test_32x32.mat') # load Testing dataset\n",
    "Extra_mat = scipy.io.loadmat('/Users/dhanashreepokale/Downloads/Capstone/extra_32x32.mat') # load Extra dataset"
   ]
  },
  {
   "cell_type": "code",
   "execution_count": 3,
   "metadata": {},
   "outputs": [
    {
     "data": {
      "text/plain": [
       "{'X': array([[[[ 33,  84,  19, ...,  92, 190, 216],\n",
       "          [ 30,  76,  54, ...,  78, 188, 217],\n",
       "          [ 38,  59, 110, ..., 101, 191, 212]],\n",
       " \n",
       "         [[ 15,  86,  20, ...,  94, 205, 221],\n",
       "          [ 23,  73,  52, ...,  82, 203, 222],\n",
       "          [ 19,  66, 111, ..., 105, 206, 217]],\n",
       " \n",
       "         [[ 15,  77,  25, ..., 114, 220, 226],\n",
       "          [ 17,  78,  57, ..., 101, 218, 227],\n",
       "          [ 19,  56, 116, ..., 125, 220, 221]],\n",
       " \n",
       "         ..., \n",
       "         [[ 72,  90,  65, ..., 200, 229, 200],\n",
       "          [ 65,  78, 144, ..., 201, 231, 199],\n",
       "          [ 56,  69, 223, ..., 203, 224, 191]],\n",
       " \n",
       "         [[ 82,  88,  78, ..., 192, 229, 193],\n",
       "          [ 77,  77, 148, ..., 193, 229, 188],\n",
       "          [ 57,  67, 218, ..., 195, 224, 182]],\n",
       " \n",
       "         [[ 89,  88,  98, ..., 190, 229, 197],\n",
       "          [ 79,  78, 158, ..., 191, 228, 189],\n",
       "          [ 59,  66, 220, ..., 193, 223, 186]]],\n",
       " \n",
       " \n",
       "        [[[ 28,  85,  21, ...,  92, 183, 204],\n",
       "          [ 39,  77,  53, ...,  78, 182, 205],\n",
       "          [ 35,  61, 110, ..., 103, 186, 202]],\n",
       " \n",
       "         [[ 14,  83,  19, ...,  93, 200, 210],\n",
       "          [ 25,  73,  52, ...,  80, 199, 211],\n",
       "          [ 22,  64, 106, ..., 106, 201, 208]],\n",
       " \n",
       "         [[ 14,  74,  25, ..., 111, 218, 220],\n",
       "          [ 20,  69,  56, ...,  98, 217, 221],\n",
       "          [ 17,  59, 111, ..., 124, 218, 217]],\n",
       " \n",
       "         ..., \n",
       "         [[ 40,  89,  63, ..., 181, 227, 201],\n",
       "          [ 39,  82, 137, ..., 180, 228, 199],\n",
       "          [ 50,  64, 208, ..., 184, 223, 193]],\n",
       " \n",
       "         [[ 67,  88,  91, ..., 177, 227, 195],\n",
       "          [ 58,  79, 153, ..., 176, 226, 191],\n",
       "          [ 52,  70, 214, ..., 180, 222, 186]],\n",
       " \n",
       "         [[ 83,  88, 130, ..., 183, 228, 196],\n",
       "          [ 78,  81, 180, ..., 182, 224, 190],\n",
       "          [ 60,  67, 229, ..., 187, 221, 186]]],\n",
       " \n",
       " \n",
       "        [[[ 40,  83,  21, ...,  99, 171, 198],\n",
       "          [ 41,  76,  53, ...,  84, 170, 198],\n",
       "          [ 38,  60, 110, ..., 112, 175, 197]],\n",
       " \n",
       "         [[ 18,  78,  20, ...,  94, 189, 202],\n",
       "          [ 21,  77,  51, ...,  81, 189, 202],\n",
       "          [ 26,  58, 106, ..., 110, 193, 201]],\n",
       " \n",
       "         [[ 16,  61,  22, ..., 107, 213, 212],\n",
       "          [ 17,  50,  52, ...,  94, 213, 211],\n",
       "          [ 23,  54, 106, ..., 123, 215, 210]],\n",
       " \n",
       "         ..., \n",
       "         [[ 23,  90,  79, ..., 167, 231, 203],\n",
       "          [ 29,  85, 147, ..., 166, 230, 200],\n",
       "          [ 45,  63, 210, ..., 171, 226, 196]],\n",
       " \n",
       "         [[ 35,  88, 125, ..., 172, 229, 198],\n",
       "          [ 42,  83, 181, ..., 171, 226, 194],\n",
       "          [ 44,  66, 230, ..., 176, 223, 191]],\n",
       " \n",
       "         [[ 72,  85, 178, ..., 185, 227, 195],\n",
       "          [ 69,  82, 218, ..., 184, 223, 190],\n",
       "          [ 53,  70, 254, ..., 189, 220, 187]]],\n",
       " \n",
       " \n",
       "        ..., \n",
       "        [[[ 86, 100,  88, ...,  99, 187, 233],\n",
       "          [ 81,  98, 162, ...,  94, 185, 226],\n",
       "          [ 75,  72, 237, ..., 110, 186, 228]],\n",
       " \n",
       "         [[ 87,  98,  89, ...,  96, 204, 230],\n",
       "          [ 82,  94, 163, ...,  91, 202, 224],\n",
       "          [ 71,  76, 238, ..., 109, 199, 225]],\n",
       " \n",
       "         [[ 82,  95,  84, ..., 108, 217, 228],\n",
       "          [ 79,  93, 156, ..., 103, 217, 223],\n",
       "          [ 65,  73, 230, ..., 124, 210, 221]],\n",
       " \n",
       "         ..., \n",
       "         [[104, 104,  62, ..., 210, 204, 198],\n",
       "          [104, 104, 142, ..., 207, 200, 196],\n",
       "          [ 87,  86, 227, ..., 204, 195, 190]],\n",
       " \n",
       "         [[104, 102,  67, ..., 206, 196, 184],\n",
       "          [105, 102, 144, ..., 202, 193, 183],\n",
       "          [ 81,  87, 226, ..., 200, 189, 177]],\n",
       " \n",
       "         [[103, 100,  74, ..., 203, 196, 189],\n",
       "          [105, 101, 145, ..., 197, 193, 187],\n",
       "          [ 78,  78, 225, ..., 199, 189, 182]]],\n",
       " \n",
       " \n",
       "        [[[ 84, 103,  88, ...,  94, 186, 231],\n",
       "          [ 86, 104, 164, ...,  91, 184, 226],\n",
       "          [ 64,  79, 240, ..., 103, 185, 228]],\n",
       " \n",
       "         [[ 86, 106,  87, ...,  94, 198, 229],\n",
       "          [ 79, 104, 160, ...,  91, 197, 224],\n",
       "          [ 72,  79, 237, ..., 104, 194, 225]],\n",
       " \n",
       "         [[ 82, 103,  88, ..., 110, 211, 227],\n",
       "          [ 76, 103, 159, ..., 107, 211, 223],\n",
       "          [ 72,  87, 237, ..., 121, 204, 222]],\n",
       " \n",
       "         ..., \n",
       "         [[110, 103,  60, ..., 219, 222, 195],\n",
       "          [103, 104, 141, ..., 218, 216, 194],\n",
       "          [ 84,  86, 230, ..., 215, 212, 186]],\n",
       " \n",
       "         [[106, 103,  61, ..., 218, 214, 181],\n",
       "          [105, 103, 141, ..., 215, 209, 181],\n",
       "          [ 85,  87, 228, ..., 212, 205, 173]],\n",
       " \n",
       "         [[106, 105,  65, ..., 212, 208, 186],\n",
       "          [104,  99, 143, ..., 209, 205, 183],\n",
       "          [ 86,  81, 226, ..., 209, 200, 177]]],\n",
       " \n",
       " \n",
       "        [[[ 85, 103,  84, ...,  88, 190, 230],\n",
       "          [ 88, 106, 160, ...,  87, 188, 226],\n",
       "          [ 68,  82, 238, ...,  94, 190, 227]],\n",
       " \n",
       "         [[ 89, 103,  81, ...,  85, 199, 230],\n",
       "          [ 82, 105, 154, ...,  84, 197, 226],\n",
       "          [ 72,  87, 233, ...,  93, 194, 227]],\n",
       " \n",
       "         [[ 85, 104,  87, ..., 105, 208, 229],\n",
       "          [ 79, 106, 158, ..., 103, 208, 225],\n",
       "          [ 67,  91, 238, ..., 114, 201, 226]],\n",
       " \n",
       "         ..., \n",
       "         [[111, 113,  63, ..., 217, 232, 190],\n",
       "          [104, 103, 144, ..., 217, 227, 190],\n",
       "          [ 87,  88, 235, ..., 214, 223, 181]],\n",
       " \n",
       "         [[109, 104,  62, ..., 221, 226, 178],\n",
       "          [105, 104, 143, ..., 220, 221, 177],\n",
       "          [ 86,  88, 232, ..., 219, 216, 169]],\n",
       " \n",
       "         [[103, 103,  63, ..., 218, 218, 181],\n",
       "          [106,  98, 145, ..., 217, 213, 178],\n",
       "          [ 79,  80, 231, ..., 218, 209, 171]]]], dtype=uint8),\n",
       " '__globals__': [],\n",
       " '__header__': 'MATLAB 5.0 MAT-file, Platform: GLNXA64, Created on: Mon Dec  5 21:09:26 2011',\n",
       " '__version__': '1.0',\n",
       " 'y': array([[1],\n",
       "        [9],\n",
       "        [2],\n",
       "        ..., \n",
       "        [1],\n",
       "        [6],\n",
       "        [9]], dtype=uint8)}"
      ]
     },
     "execution_count": 3,
     "metadata": {},
     "output_type": "execute_result"
    }
   ],
   "source": [
    "Train_mat # checking the output of loaded Train dataset."
   ]
  },
  {
   "cell_type": "code",
   "execution_count": 4,
   "metadata": {},
   "outputs": [
    {
     "data": {
      "text/plain": [
       "(32, 32, 3, 73257)"
      ]
     },
     "execution_count": 4,
     "metadata": {},
     "output_type": "execute_result"
    }
   ],
   "source": [
    "A = Train_mat['X'] # The data is in the form of size in first 2 columns, RGB in 3rd column and Image Id in last column.\n",
    "A.shape # The shape should provide us 4 Dimensions as expected."
   ]
  },
  {
   "cell_type": "code",
   "execution_count": 6,
   "metadata": {
    "collapsed": true
   },
   "outputs": [],
   "source": [
    "# access to the dict\n",
    "x_train = Train_mat['X'] # Storing image in x_train\n",
    "y_train = Train_mat['y'] # Storing image label in y_train"
   ]
  },
  {
   "cell_type": "code",
   "execution_count": 7,
   "metadata": {},
   "outputs": [
    {
     "name": "stdout",
     "output_type": "stream",
     "text": [
      "[5]\n"
     ]
    },
    {
     "data": {
      "image/png": "[encoded data removed]",
      "text/plain": [
       "<matplotlib.figure.Figure at 0x10746cb10>"
      ]
     },
     "metadata": {},
     "output_type": "display_data"
    }
   ],
   "source": [
    "# Call matplotlib library\n",
    "%matplotlib inline \n",
    "\n",
    "# Which image to check\n",
    "image_indicator = 900 # Create a variable to store image indicator.\n",
    "\n",
    "# check a sample image where image id is given by image_indicator\n",
    "plt.imshow(x_train[:,:,:,image_indicator])\n",
    "print(y_train[image_indicator])"
   ]
  },
  {
   "cell_type": "markdown",
   "metadata": {},
   "source": [
    "### Comments:\n",
    "1. We notice that there are some images which have a DISTRACTING number right beside the image. \n",
    "2. The images are blurr.\n",
    "3. The images are colored."
   ]
  },
  {
   "cell_type": "code",
   "execution_count": 9,
   "metadata": {},
   "outputs": [
    {
     "data": {
      "text/plain": [
       "<matplotlib.image.AxesImage at 0x188733910>"
      ]
     },
     "execution_count": 9,
     "metadata": {},
     "output_type": "execute_result"
    },
    {
     "data": {
      "image/png": "[encoded data removed]",
      "text/plain": [
       "<matplotlib.figure.Figure at 0x17ae17190>"
      ]
     },
     "metadata": {},
     "output_type": "display_data"
    }
   ],
   "source": [
    "plt.imshow(x_train[:,:,0,image_indicator],cmap = 'Reds')  # this corresponds to image by red channel; \n",
    "#this is like plotting entire image removing the other color dimensions\n",
    "\n"
   ]
  },
  {
   "cell_type": "code",
   "execution_count": 10,
   "metadata": {},
   "outputs": [
    {
     "data": {
      "text/plain": [
       "<matplotlib.image.AxesImage at 0x114c03650>"
      ]
     },
     "execution_count": 10,
     "metadata": {},
     "output_type": "execute_result"
    },
    {
     "data": {
      "image/png": "[encoded data removed]",
      "text/plain": [
       "<matplotlib.figure.Figure at 0x18875ac90>"
      ]
     },
     "metadata": {},
     "output_type": "display_data"
    }
   ],
   "source": [
    "plt.imshow(x_train[:,:,1,image_indicator],cmap = 'Blues')  # this corresponds to image by blue channel; \n",
    "#this is like plotting entire image removing the other color dimensions\n",
    "\n"
   ]
  },
  {
   "cell_type": "code",
   "execution_count": 11,
   "metadata": {},
   "outputs": [
    {
     "data": {
      "text/plain": [
       "<matplotlib.image.AxesImage at 0x188990e90>"
      ]
     },
     "execution_count": 11,
     "metadata": {},
     "output_type": "execute_result"
    },
    {
     "data": {
      "image/png": "[encoded data removed]",
      "text/plain": [
       "<matplotlib.figure.Figure at 0x114bdd910>"
      ]
     },
     "metadata": {},
     "output_type": "display_data"
    }
   ],
   "source": [
    "plt.imshow(x_train[:,:,2,image_indicator],cmap = 'Greens')  # this corresponds to image by green channel; \n",
    "#this is like plotting entire image removing the other color dimensions"
   ]
  },
  {
   "cell_type": "code",
   "execution_count": 12,
   "metadata": {
    "collapsed": true
   },
   "outputs": [],
   "source": [
    "data = np.array(x_train)"
   ]
  },
  {
   "cell_type": "code",
   "execution_count": 13,
   "metadata": {},
   "outputs": [
    {
     "data": {
      "text/plain": [
       "(32, 32, 3, 73257)"
      ]
     },
     "execution_count": 13,
     "metadata": {},
     "output_type": "execute_result"
    }
   ],
   "source": [
    "data.shape"
   ]
  },
  {
   "cell_type": "code",
   "execution_count": 60,
   "metadata": {},
   "outputs": [
    {
     "data": {
      "text/plain": [
       "(32, 32, 3)"
      ]
     },
     "execution_count": 60,
     "metadata": {},
     "output_type": "execute_result"
    },
    {
     "data": {
      "image/png": "[encoded data removed]",
      "text/plain": [
       "<matplotlib.figure.Figure at 0x17f7beed0>"
      ]
     },
     "metadata": {},
     "output_type": "display_data"
    }
   ],
   "source": [
    "# Lets look at the mean of the batch channel\n",
    "mean_img = np.mean(data, axis =3)\n",
    "plt.imshow(mean_img)\n"
   ]
  },
  {
   "cell_type": "code",
   "execution_count": 17,
   "metadata": {},
   "outputs": [
    {
     "data": {
      "text/plain": [
       "<matplotlib.image.AxesImage at 0x19b379e50>"
      ]
     },
     "execution_count": 17,
     "metadata": {},
     "output_type": "execute_result"
    },
    {
     "data": {
      "image/png": "[encoded data removed]",
      "text/plain": [
       "<matplotlib.figure.Figure at 0x188dde350>"
      ]
     },
     "metadata": {},
     "output_type": "display_data"
    }
   ],
   "source": [
    "plt.imshow(mean_img.astype(np.uint8))"
   ]
  },
  {
   "cell_type": "code",
   "execution_count": 44,
   "metadata": {
    "collapsed": true
   },
   "outputs": [],
   "source": [
    "std_img = np.std(data, axis = 3)"
   ]
  },
  {
   "cell_type": "code",
   "execution_count": 45,
   "metadata": {},
   "outputs": [
    {
     "data": {
      "text/plain": [
       "<matplotlib.image.AxesImage at 0x18523dc50>"
      ]
     },
     "execution_count": 45,
     "metadata": {},
     "output_type": "execute_result"
    },
    {
     "data": {
      "image/png": "[encoded data removed]",
      "text/plain": [
       "<matplotlib.figure.Figure at 0x183c4bfd0>"
      ]
     },
     "metadata": {},
     "output_type": "display_data"
    }
   ],
   "source": [
    "plt.imshow(std_img.astype(np.uint8))"
   ]
  },
  {
   "cell_type": "code",
   "execution_count": 43,
   "metadata": {},
   "outputs": [
    {
     "data": {
      "text/plain": [
       "<matplotlib.image.AxesImage at 0x183c25c50>"
      ]
     },
     "execution_count": 43,
     "metadata": {},
     "output_type": "execute_result"
    },
    {
     "data": {
      "image/png": "[encoded data removed]",
      "text/plain": [
       "<matplotlib.figure.Figure at 0x17f663690>"
      ]
     },
     "metadata": {},
     "output_type": "display_data"
    }
   ],
   "source": [
    "plt.imshow(np.mean(std_img,axis=2).astype(np.uint8)) # this is on an average how much color variation we can see\n",
    "# more blue indicates our image is more likely to be far from any other images"
   ]
  },
  {
   "cell_type": "code",
   "execution_count": 22,
   "metadata": {
    "collapsed": true
   },
   "outputs": [],
   "source": [
    "# converting 4D to 1D\n",
    "flattened = data.ravel()"
   ]
  },
  {
   "cell_type": "code",
   "execution_count": 23,
   "metadata": {},
   "outputs": [
    {
     "name": "stdout",
     "output_type": "stream",
     "text": [
      "[[[[ 33  84  19 ...,  92 190 216]\n",
      "   [ 30  76  54 ...,  78 188 217]\n",
      "   [ 38  59 110 ..., 101 191 212]]\n",
      "\n",
      "  [[ 15  86  20 ...,  94 205 221]\n",
      "   [ 23  73  52 ...,  82 203 222]\n",
      "   [ 19  66 111 ..., 105 206 217]]\n",
      "\n",
      "  [[ 15  77  25 ..., 114 220 226]\n",
      "   [ 17  78  57 ..., 101 218 227]\n",
      "   [ 19  56 116 ..., 125 220 221]]\n",
      "\n",
      "  ..., \n",
      "  [[ 72  90  65 ..., 200 229 200]\n",
      "   [ 65  78 144 ..., 201 231 199]\n",
      "   [ 56  69 223 ..., 203 224 191]]\n",
      "\n",
      "  [[ 82  88  78 ..., 192 229 193]\n",
      "   [ 77  77 148 ..., 193 229 188]\n",
      "   [ 57  67 218 ..., 195 224 182]]\n",
      "\n",
      "  [[ 89  88  98 ..., 190 229 197]\n",
      "   [ 79  78 158 ..., 191 228 189]\n",
      "   [ 59  66 220 ..., 193 223 186]]]]\n"
     ]
    }
   ],
   "source": [
    "# 4D representation\n",
    "print(data[:1])"
   ]
  },
  {
   "cell_type": "code",
   "execution_count": 24,
   "metadata": {},
   "outputs": [
    {
     "name": "stdout",
     "output_type": "stream",
     "text": [
      "[ 33  84  19  18 108 132  83 129  42  70]\n"
     ]
    }
   ],
   "source": [
    "# 1D representation\n",
    "print(flattened[:10])"
   ]
  },
  {
   "cell_type": "code",
   "execution_count": 27,
   "metadata": {},
   "outputs": [
    {
     "data": {
      "text/plain": [
       "(array([   24597.,    18264.,    20599.,    24710.,    29765.,    37300.,\n",
       "           46133.,    55629.,    64603.,    74770.,    86128.,    99589.,\n",
       "          113588.,   128393.,   144052.,   161694.,   179149.,   199299.,\n",
       "          218574.,   237962.,   257373.,   280266.,   302016.,   325813.,\n",
       "          348566.,   372942.,   398109.,   422798.,   447759.,   472830.,\n",
       "          496231.,   522932.,   548945.,   578019.,   606202.,   632236.,\n",
       "          659603.,   686149.,   714143.,   743154.,   769907.,   794910.,\n",
       "          820260.,   848071.,   872342.,   896428.,   922875.,   946539.,\n",
       "          971514.,   995992.,  1022395.,  1042682.,  1069986.,  1088688.,\n",
       "         1111811.,  1135146.,  1156557.,  1179479.,  1200381.,  1220758.,\n",
       "         1241926.,  1260237.,  1281257.,  1302668.,  1321691.,  1340238.,\n",
       "         1360677.,  1377878.,  1395321.,  1412152.,  1428818.,  1446226.,\n",
       "         1463036.,  1473212.,  1492802.,  1506243.,  1522407.,  1534488.,\n",
       "         1548805.,  1558802.,  1572223.,  1583850.,  1594488.,  1605945.,\n",
       "         1616125.,  1627031.,  1634493.,  1644234.,  1651039.,  1659453.,\n",
       "         1661823.,  1667307.,  1669731.,  1675961.,  1679106.,  1685297.,\n",
       "         1684391.,  1687339.,  1691619.,  1691013.,  1691474.,  1691231.,\n",
       "         1693596.,  1690414.,  1688295.,  1686320.,  1683274.,  1681301.,\n",
       "         1678297.,  1673718.,  1667350.,  1664328.,  1660069.,  1651104.,\n",
       "         1644251.,  1641081.,  1637030.,  1626444.,  1623441.,  1617218.,\n",
       "         1608836.,  1599718.,  1590547.,  1580848.,  1571686.,  1562988.,\n",
       "         1556911.,  1546539.,  1537726.,  1526942.,  1513579.,  1500286.,\n",
       "         1488529.,  1477194.,  1463599.,  1446203.,  1433008.,  1419448.,\n",
       "         1405052.,  1394182.,  1378432.,  1363818.,  1344933.,  1333040.,\n",
       "         1317898.,  1304467.,  1287846.,  1268755.,  1254874.,  1237951.,\n",
       "         1221395.,  1207393.,  1192126.,  1175113.,  1156765.,  1140329.,\n",
       "         1121899.,  1103227.,  1087642.,  1068138.,  1048587.,  1030669.,\n",
       "         1014173.,   997095.,   981487.,   963279.,   947634.,   931217.,\n",
       "          913672.,   896984.,   878896.,   861085.,   843053.,   825532.,\n",
       "          806781.,   789420.,   772571.,   756856.,   741281.,   724030.,\n",
       "          706046.,   690225.,   674236.,   659565.,   645368.,   627912.,\n",
       "          613639.,   596741.,   583675.,   570150.,   553075.,   542378.,\n",
       "          530063.,   519120.,   509723.,   498308.,   488428.,   478188.,\n",
       "          467274.,   457482.,   446790.,   436992.,   430526.,   420528.,\n",
       "          415656.,   404719.,   396831.,   391974.,   383578.,   376083.,\n",
       "          367633.,   360318.,   351301.,   343747.,   334547.,   326381.,\n",
       "          319478.,   311531.,   306878.,   301390.,   291965.,   283100.,\n",
       "          275519.,   267530.,   262184.,   254146.,   247700.,   243333.,\n",
       "          237982.,   232396.,   225139.,   216069.,   211506.,   206335.,\n",
       "          201279.,   194076.,   187931.,   183334.,   179131.,   175220.,\n",
       "          170491.,   166127.,   160229.,   154636.,   151486.,   148765.,\n",
       "          144994.,   143773.,   142593.,   142147.,   143244.,   142843.,\n",
       "          144653.,   157272.,   614542.]),\n",
       " array([   0.,    1.,    2.,    3.,    4.,    5.,    6.,    7.,    8.,\n",
       "           9.,   10.,   11.,   12.,   13.,   14.,   15.,   16.,   17.,\n",
       "          18.,   19.,   20.,   21.,   22.,   23.,   24.,   25.,   26.,\n",
       "          27.,   28.,   29.,   30.,   31.,   32.,   33.,   34.,   35.,\n",
       "          36.,   37.,   38.,   39.,   40.,   41.,   42.,   43.,   44.,\n",
       "          45.,   46.,   47.,   48.,   49.,   50.,   51.,   52.,   53.,\n",
       "          54.,   55.,   56.,   57.,   58.,   59.,   60.,   61.,   62.,\n",
       "          63.,   64.,   65.,   66.,   67.,   68.,   69.,   70.,   71.,\n",
       "          72.,   73.,   74.,   75.,   76.,   77.,   78.,   79.,   80.,\n",
       "          81.,   82.,   83.,   84.,   85.,   86.,   87.,   88.,   89.,\n",
       "          90.,   91.,   92.,   93.,   94.,   95.,   96.,   97.,   98.,\n",
       "          99.,  100.,  101.,  102.,  103.,  104.,  105.,  106.,  107.,\n",
       "         108.,  109.,  110.,  111.,  112.,  113.,  114.,  115.,  116.,\n",
       "         117.,  118.,  119.,  120.,  121.,  122.,  123.,  124.,  125.,\n",
       "         126.,  127.,  128.,  129.,  130.,  131.,  132.,  133.,  134.,\n",
       "         135.,  136.,  137.,  138.,  139.,  140.,  141.,  142.,  143.,\n",
       "         144.,  145.,  146.,  147.,  148.,  149.,  150.,  151.,  152.,\n",
       "         153.,  154.,  155.,  156.,  157.,  158.,  159.,  160.,  161.,\n",
       "         162.,  163.,  164.,  165.,  166.,  167.,  168.,  169.,  170.,\n",
       "         171.,  172.,  173.,  174.,  175.,  176.,  177.,  178.,  179.,\n",
       "         180.,  181.,  182.,  183.,  184.,  185.,  186.,  187.,  188.,\n",
       "         189.,  190.,  191.,  192.,  193.,  194.,  195.,  196.,  197.,\n",
       "         198.,  199.,  200.,  201.,  202.,  203.,  204.,  205.,  206.,\n",
       "         207.,  208.,  209.,  210.,  211.,  212.,  213.,  214.,  215.,\n",
       "         216.,  217.,  218.,  219.,  220.,  221.,  222.,  223.,  224.,\n",
       "         225.,  226.,  227.,  228.,  229.,  230.,  231.,  232.,  233.,\n",
       "         234.,  235.,  236.,  237.,  238.,  239.,  240.,  241.,  242.,\n",
       "         243.,  244.,  245.,  246.,  247.,  248.,  249.,  250.,  251.,\n",
       "         252.,  253.,  254.,  255.]),\n",
       " <a list of 255 Patch objects>)"
      ]
     },
     "execution_count": 27,
     "metadata": {},
     "output_type": "execute_result"
    },
    {
     "data": {
      "image/png": "[encoded data removed]",
      "text/plain": [
       "<matplotlib.figure.Figure at 0x1a986ff50>"
      ]
     },
     "metadata": {},
     "output_type": "display_data"
    }
   ],
   "source": [
    "# we plot histograms to see what is the range of values. We can check if something is happening more than other. \n",
    "# It is likely that neural network will take advantage of that.\n",
    "plt.hist(flattened.ravel(),255)"
   ]
  },
  {
   "cell_type": "code",
   "execution_count": 66,
   "metadata": {},
   "outputs": [
    {
     "data": {
      "text/plain": [
       "<matplotlib.text.Text at 0x17f750510>"
      ]
     },
     "execution_count": 66,
     "metadata": {},
     "output_type": "execute_result"
    },
    {
     "data": {
      "image/png": "[encoded data removed]",
      "text/plain": [
       "<matplotlib.figure.Figure at 0x180359a10>"
      ]
     },
     "metadata": {},
     "output_type": "display_data"
    }
   ],
   "source": [
    "bins = 20\n",
    "fig, axes = plt.subplots(1,3, figsize = (12,6), sharey= True, sharex = True)\n",
    "axes[0].hist(data[:,:,:,1].ravel(),bins)\n",
    "axes[0].set_title('original distribution')\n",
    "\n",
    "axes[1].hist((mean_img).ravel(),bins)\n",
    "axes[1].set_title('mean distribution')\n",
    "\n",
    "# When we subtract the mean the only thing that remains is what is unique about it.\n",
    "axes[2].hist((data[:,:,:,1]-mean_img).ravel(),bins)\n",
    "axes[2].set_title('original-mean distribution')\n",
    "\n"
   ]
  },
  {
   "cell_type": "code",
   "execution_count": 70,
   "metadata": {},
   "outputs": [
    {
     "data": {
      "text/plain": [
       "(-5, 5)"
      ]
     },
     "execution_count": 70,
     "metadata": {},
     "output_type": "execute_result"
    },
    {
     "data": {
      "image/png": "[encoded data removed]",
      "text/plain": [
       "<matplotlib.figure.Figure at 0x17b171950>"
      ]
     },
     "metadata": {},
     "output_type": "display_data"
    }
   ],
   "source": [
    "bins = 20\n",
    "fig, axes = plt.subplots(1,3, figsize = (12,6), sharey= True, sharex = True)\n",
    "axes[0].hist((data[:,:,:,1]-mean_img).ravel(),bins)\n",
    "axes[0].set_title('original-mean distribution')\n",
    "\n",
    "axes[1].hist((std_img).ravel(),bins)\n",
    "axes[1].set_title('standard deviation distribution')\n",
    "\n",
    "axes[2].hist(((data[:,:,:,1]-mean_img)/std_img).ravel(),bins)\n",
    "axes[2].set_title('(orig-mean)/std distribution')\n",
    "\n",
    "axes[2].set_xlim([-5,5])"
   ]
  },
  {
   "cell_type": "code",
   "execution_count": null,
   "metadata": {
    "collapsed": true
   },
   "outputs": [],
   "source": [
    "# we see that most variance is concentrated around 0 between -2 & 0."
   ]
  }
 ],
 "metadata": {
  "kernelspec": {
   "display_name": "Python 2",
   "language": "python",
   "name": "python2"
  },
  "language_info": {
   "codemirror_mode": {
    "name": "ipython",
    "version": 2
   },
   "file_extension": ".py",
   "mimetype": "text/x-python",
   "name": "python",
   "nbconvert_exporter": "python",
   "pygments_lexer": "ipython2",
   "version": "2.7.13"
  }
 },
 "nbformat": 4,
 "nbformat_minor": 2
}
