{
 "cells": [
  {
   "cell_type": "markdown",
   "metadata": {},
   "source": [
    "# CAPSTONE: \n",
    "# Google Street View Image Recognition using Convolution Neural Network"
   ]
  },
  {
   "cell_type": "markdown",
   "metadata": {},
   "source": [
    "### INTRODUCTION:\n",
    "Here we use .mat file format for the SVHN data. It contains cropped digits. All the digits are resized to 32 x 32 pixels and the images have been preprocessed to not face any aspect ratio distortions. Yet, we may notice some other digit right besides the digit of our interest.\n",
    "\n",
    "Source of above information & dataset: http://ufldl.stanford.edu/housenumbers/"
   ]
  },
  {
   "cell_type": "markdown",
   "metadata": {},
   "source": [
    "### IMPORTING PYTHON LIBRARIES & DATASETS:\n",
    "1. We start by importing essential python libraries. The purpose of every library has been indicated in the comment beside the code.\n",
    "2. Then we load train, test and extra data and store it in Train_mat, Test_mat, Extra_mat dataframes."
   ]
  },
  {
   "cell_type": "code",
   "execution_count": null,
   "metadata": {
    "collapsed": true
   },
   "outputs": [],
   "source": [
    "import scipy.io # we use this python library for loading data from matlab file.\n",
    "import numpy as np # library is used for scientific computing; it has high performance multi-dimensional array object.\n",
    "import matplotlib.pyplot as plt # it is a plotting library; plotting system is similar to that of MATLAB. \n",
    "Train_mat = scipy.io.loadmat('/Users/dhanashreepokale/Downloads/Capstone/train_32x32.mat') # load Training dataset\n",
    "Test_mat = scipy.io.loadmat('/Users/dhanashreepokale/Downloads/Capstone/test_32x32.mat') # load Testing dataset\n",
    "Extra_mat = scipy.io.loadmat('/Users/dhanashreepokale/Downloads/Capstone/extra_32x32.mat') # load Extra dataset"
   ]
  },
  {
   "cell_type": "code",
   "execution_count": 21,
   "metadata": {
    "collapsed": false
   },
   "outputs": [
    {
     "data": {
      "text/plain": [
       "{'X': array([[[[ 33,  84,  19, ...,  92, 190, 216],\n",
       "          [ 30,  76,  54, ...,  78, 188, 217],\n",
       "          [ 38,  59, 110, ..., 101, 191, 212]],\n",
       " \n",
       "         [[ 15,  86,  20, ...,  94, 205, 221],\n",
       "          [ 23,  73,  52, ...,  82, 203, 222],\n",
       "          [ 19,  66, 111, ..., 105, 206, 217]],\n",
       " \n",
       "         [[ 15,  77,  25, ..., 114, 220, 226],\n",
       "          [ 17,  78,  57, ..., 101, 218, 227],\n",
       "          [ 19,  56, 116, ..., 125, 220, 221]],\n",
       " \n",
       "         ..., \n",
       "         [[ 72,  90,  65, ..., 200, 229, 200],\n",
       "          [ 65,  78, 144, ..., 201, 231, 199],\n",
       "          [ 56,  69, 223, ..., 203, 224, 191]],\n",
       " \n",
       "         [[ 82,  88,  78, ..., 192, 229, 193],\n",
       "          [ 77,  77, 148, ..., 193, 229, 188],\n",
       "          [ 57,  67, 218, ..., 195, 224, 182]],\n",
       " \n",
       "         [[ 89,  88,  98, ..., 190, 229, 197],\n",
       "          [ 79,  78, 158, ..., 191, 228, 189],\n",
       "          [ 59,  66, 220, ..., 193, 223, 186]]],\n",
       " \n",
       " \n",
       "        [[[ 28,  85,  21, ...,  92, 183, 204],\n",
       "          [ 39,  77,  53, ...,  78, 182, 205],\n",
       "          [ 35,  61, 110, ..., 103, 186, 202]],\n",
       " \n",
       "         [[ 14,  83,  19, ...,  93, 200, 210],\n",
       "          [ 25,  73,  52, ...,  80, 199, 211],\n",
       "          [ 22,  64, 106, ..., 106, 201, 208]],\n",
       " \n",
       "         [[ 14,  74,  25, ..., 111, 218, 220],\n",
       "          [ 20,  69,  56, ...,  98, 217, 221],\n",
       "          [ 17,  59, 111, ..., 124, 218, 217]],\n",
       " \n",
       "         ..., \n",
       "         [[ 40,  89,  63, ..., 181, 227, 201],\n",
       "          [ 39,  82, 137, ..., 180, 228, 199],\n",
       "          [ 50,  64, 208, ..., 184, 223, 193]],\n",
       " \n",
       "         [[ 67,  88,  91, ..., 177, 227, 195],\n",
       "          [ 58,  79, 153, ..., 176, 226, 191],\n",
       "          [ 52,  70, 214, ..., 180, 222, 186]],\n",
       " \n",
       "         [[ 83,  88, 130, ..., 183, 228, 196],\n",
       "          [ 78,  81, 180, ..., 182, 224, 190],\n",
       "          [ 60,  67, 229, ..., 187, 221, 186]]],\n",
       " \n",
       " \n",
       "        [[[ 40,  83,  21, ...,  99, 171, 198],\n",
       "          [ 41,  76,  53, ...,  84, 170, 198],\n",
       "          [ 38,  60, 110, ..., 112, 175, 197]],\n",
       " \n",
       "         [[ 18,  78,  20, ...,  94, 189, 202],\n",
       "          [ 21,  77,  51, ...,  81, 189, 202],\n",
       "          [ 26,  58, 106, ..., 110, 193, 201]],\n",
       " \n",
       "         [[ 16,  61,  22, ..., 107, 213, 212],\n",
       "          [ 17,  50,  52, ...,  94, 213, 211],\n",
       "          [ 23,  54, 106, ..., 123, 215, 210]],\n",
       " \n",
       "         ..., \n",
       "         [[ 23,  90,  79, ..., 167, 231, 203],\n",
       "          [ 29,  85, 147, ..., 166, 230, 200],\n",
       "          [ 45,  63, 210, ..., 171, 226, 196]],\n",
       " \n",
       "         [[ 35,  88, 125, ..., 172, 229, 198],\n",
       "          [ 42,  83, 181, ..., 171, 226, 194],\n",
       "          [ 44,  66, 230, ..., 176, 223, 191]],\n",
       " \n",
       "         [[ 72,  85, 178, ..., 185, 227, 195],\n",
       "          [ 69,  82, 218, ..., 184, 223, 190],\n",
       "          [ 53,  70, 254, ..., 189, 220, 187]]],\n",
       " \n",
       " \n",
       "        ..., \n",
       "        [[[ 86, 100,  88, ...,  99, 187, 233],\n",
       "          [ 81,  98, 162, ...,  94, 185, 226],\n",
       "          [ 75,  72, 237, ..., 110, 186, 228]],\n",
       " \n",
       "         [[ 87,  98,  89, ...,  96, 204, 230],\n",
       "          [ 82,  94, 163, ...,  91, 202, 224],\n",
       "          [ 71,  76, 238, ..., 109, 199, 225]],\n",
       " \n",
       "         [[ 82,  95,  84, ..., 108, 217, 228],\n",
       "          [ 79,  93, 156, ..., 103, 217, 223],\n",
       "          [ 65,  73, 230, ..., 124, 210, 221]],\n",
       " \n",
       "         ..., \n",
       "         [[104, 104,  62, ..., 210, 204, 198],\n",
       "          [104, 104, 142, ..., 207, 200, 196],\n",
       "          [ 87,  86, 227, ..., 204, 195, 190]],\n",
       " \n",
       "         [[104, 102,  67, ..., 206, 196, 184],\n",
       "          [105, 102, 144, ..., 202, 193, 183],\n",
       "          [ 81,  87, 226, ..., 200, 189, 177]],\n",
       " \n",
       "         [[103, 100,  74, ..., 203, 196, 189],\n",
       "          [105, 101, 145, ..., 197, 193, 187],\n",
       "          [ 78,  78, 225, ..., 199, 189, 182]]],\n",
       " \n",
       " \n",
       "        [[[ 84, 103,  88, ...,  94, 186, 231],\n",
       "          [ 86, 104, 164, ...,  91, 184, 226],\n",
       "          [ 64,  79, 240, ..., 103, 185, 228]],\n",
       " \n",
       "         [[ 86, 106,  87, ...,  94, 198, 229],\n",
       "          [ 79, 104, 160, ...,  91, 197, 224],\n",
       "          [ 72,  79, 237, ..., 104, 194, 225]],\n",
       " \n",
       "         [[ 82, 103,  88, ..., 110, 211, 227],\n",
       "          [ 76, 103, 159, ..., 107, 211, 223],\n",
       "          [ 72,  87, 237, ..., 121, 204, 222]],\n",
       " \n",
       "         ..., \n",
       "         [[110, 103,  60, ..., 219, 222, 195],\n",
       "          [103, 104, 141, ..., 218, 216, 194],\n",
       "          [ 84,  86, 230, ..., 215, 212, 186]],\n",
       " \n",
       "         [[106, 103,  61, ..., 218, 214, 181],\n",
       "          [105, 103, 141, ..., 215, 209, 181],\n",
       "          [ 85,  87, 228, ..., 212, 205, 173]],\n",
       " \n",
       "         [[106, 105,  65, ..., 212, 208, 186],\n",
       "          [104,  99, 143, ..., 209, 205, 183],\n",
       "          [ 86,  81, 226, ..., 209, 200, 177]]],\n",
       " \n",
       " \n",
       "        [[[ 85, 103,  84, ...,  88, 190, 230],\n",
       "          [ 88, 106, 160, ...,  87, 188, 226],\n",
       "          [ 68,  82, 238, ...,  94, 190, 227]],\n",
       " \n",
       "         [[ 89, 103,  81, ...,  85, 199, 230],\n",
       "          [ 82, 105, 154, ...,  84, 197, 226],\n",
       "          [ 72,  87, 233, ...,  93, 194, 227]],\n",
       " \n",
       "         [[ 85, 104,  87, ..., 105, 208, 229],\n",
       "          [ 79, 106, 158, ..., 103, 208, 225],\n",
       "          [ 67,  91, 238, ..., 114, 201, 226]],\n",
       " \n",
       "         ..., \n",
       "         [[111, 113,  63, ..., 217, 232, 190],\n",
       "          [104, 103, 144, ..., 217, 227, 190],\n",
       "          [ 87,  88, 235, ..., 214, 223, 181]],\n",
       " \n",
       "         [[109, 104,  62, ..., 221, 226, 178],\n",
       "          [105, 104, 143, ..., 220, 221, 177],\n",
       "          [ 86,  88, 232, ..., 219, 216, 169]],\n",
       " \n",
       "         [[103, 103,  63, ..., 218, 218, 181],\n",
       "          [106,  98, 145, ..., 217, 213, 178],\n",
       "          [ 79,  80, 231, ..., 218, 209, 171]]]], dtype=uint8),\n",
       " '__globals__': [],\n",
       " '__header__': b'MATLAB 5.0 MAT-file, Platform: GLNXA64, Created on: Mon Dec  5 21:09:26 2011',\n",
       " '__version__': '1.0',\n",
       " 'y': array([[1],\n",
       "        [9],\n",
       "        [2],\n",
       "        ..., \n",
       "        [1],\n",
       "        [6],\n",
       "        [9]], dtype=uint8)}"
      ]
     },
     "execution_count": 21,
     "metadata": {},
     "output_type": "execute_result"
    }
   ],
   "source": [
    "Train_mat # checking the output of loaded Train dataset."
   ]
  },
  {
   "cell_type": "code",
   "execution_count": 16,
   "metadata": {
    "collapsed": false
   },
   "outputs": [
    {
     "data": {
      "text/plain": [
       "(32, 32, 3, 73257)"
      ]
     },
     "execution_count": 16,
     "metadata": {},
     "output_type": "execute_result"
    }
   ],
   "source": [
    "A = Train_mat['X'] # The data is in the form of size in first 2 columns, RGB in 3rd column and Image Id in last column.\n",
    "A.shape # The shape should provide us 4 Dimensions as expected."
   ]
  },
  {
   "cell_type": "code",
   "execution_count": 4,
   "metadata": {
    "collapsed": true
   },
   "outputs": [],
   "source": [
    "# access to the dict\n",
    "x_train = Train_mat['X'] # Storing image in x_train\n",
    "y_train = Train_mat['y'] # Storing image label in y_train"
   ]
  },
  {
   "cell_type": "code",
   "execution_count": 18,
   "metadata": {
    "collapsed": false
   },
   "outputs": [
    {
     "name": "stdout",
     "output_type": "stream",
     "text": [
      "[5]\n"
     ]
    },
    {
     "data": {
      "image/png": "[encoded data removed]",
      "text/plain": [
       "<matplotlib.figure.Figure at 0x1176df588>"
      ]
     },
     "metadata": {},
     "output_type": "display_data"
    }
   ],
   "source": [
    "# Call matplotlib library\n",
    "%matplotlib inline \n",
    "\n",
    "# Which image to check\n",
    "image_indicator = 900 # Create a variable to store image indicator.\n",
    "\n",
    "# check a sample image where image id is given by image_indicator\n",
    "plt.imshow(x_train[:,:,:,image_indicator])\n",
    "print(y_train[image_indicator])"
   ]
  },
  {
   "cell_type": "markdown",
   "metadata": {},
   "source": [
    "### Comments:\n",
    "1. We notice that there are some images which have a DISTRACTING number right beside the image. \n",
    "2. The images are blurr.\n",
    "3. The images are colored."
   ]
  },
  {
   "cell_type": "code",
   "execution_count": null,
   "metadata": {
    "collapsed": false
   },
   "outputs": [],
   "source": []
  },
  {
   "cell_type": "code",
   "execution_count": null,
   "metadata": {
    "collapsed": true
   },
   "outputs": [],
   "source": [
    "\n",
    "\n"
   ]
  }
 ],
 "metadata": {
  "kernelspec": {
   "display_name": "Python 3",
   "language": "python",
   "name": "python3"
  },
  "language_info": {
   "codemirror_mode": {
    "name": "ipython",
    "version": 3
   },
   "file_extension": ".py",
   "mimetype": "text/x-python",
   "name": "python",
   "nbconvert_exporter": "python",
   "pygments_lexer": "ipython3",
   "version": "3.6.0"
  }
 },
 "nbformat": 4,
 "nbformat_minor": 2
}
