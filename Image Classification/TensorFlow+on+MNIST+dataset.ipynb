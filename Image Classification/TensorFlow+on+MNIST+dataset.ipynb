{
 "cells": [
  {
   "cell_type": "markdown",
   "metadata": {},
   "source": [
    "# Getting Started with TensorFlow\n",
    "\n",
    "## TensorFlow on MNIST dataset\n",
    "\n",
    "\n",
    "### What is TensorFlow?\n",
    "One of the articles (http://www.businessinsider.com/what-is-google-tensorflow-2015-11) from Business Insider mentioned about Google's TensorFlow as Artificial Intelligence System of Google. As this article describes, Google built a machine learning system that was fed with an image and it returned if it was a cat or a dog. Steps taken to implement this on a high level were that first the TensorFlow sorts through data layers where every step is performing certain tasks like identifying shape in the picture and then next layer gets into more detailed identification and so on. These layers can be refered to as nodes. This process of compiling information layer by layer to make final identification is called as Tensor & process is called TensorFlow.\n",
    "\n",
    "### About MNIST dataset\n",
    "The dataset is hosted on http://yann.lecun.com/exdb/mnist/ .\n",
    "It is a database of handwritten digits with training samples of 60000 examples and 10000 test examples. This is a subset data of NIST database. The digits are normalized and centered in a fixed-size image.\n",
    "\n",
    "### References\n",
    "1. https://www.youtube.com/watch?v=wuo4JdG3SvU\n",
    "2. https://www.tensorflow.org/get_started/mnist/mechanics\n"
   ]
  },
  {
   "cell_type": "code",
   "execution_count": 7,
   "metadata": {},
   "outputs": [],
   "source": [
    "# Import the libraries essential for this analysis.\n",
    "\n",
    "import tensorflow as tf\n",
    "%matplotlib inline\n",
    "import matplotlib.pyplot as plt\n",
    "import numpy as np\n",
    "import sklearn\n",
    "from sklearn.metrics import confusion_matrix"
   ]
  },
  {
   "cell_type": "code",
   "execution_count": 8,
   "metadata": {},
   "outputs": [
    {
     "name": "stdout",
     "output_type": "stream",
     "text": [
      "Extracting data/MNIST/train-images-idx3-ubyte.gz\n",
      "Extracting data/MNIST/train-labels-idx1-ubyte.gz\n",
      "Extracting data/MNIST/t10k-images-idx3-ubyte.gz\n",
      "Extracting data/MNIST/t10k-labels-idx1-ubyte.gz\n"
     ]
    }
   ],
   "source": [
    "# We now download MNIST dataset which is about 12MB\n",
    "\n",
    "from tensorflow.examples.tutorials.mnist import input_data\n",
    "data = input_data.read_data_sets(\"data/MNIST/\", one_hot = True)\n",
    "\n",
    "# We used one_hot= True which means we enable one hot encoding for the dataset. \n",
    "# This means that the label for each sample in the dataset is a vector of number of classes \n",
    "# (here number of classes are 10) and only 1 element of that vector would be 1 rest all would be 0.\n",
    "# If the 8th element of that vector is 1, then label is 8\n"
   ]
  },
  {
   "cell_type": "code",
   "execution_count": 12,
   "metadata": {},
   "outputs": [
    {
     "name": "stdout",
     "output_type": "stream",
     "text": [
      "Training-set:\t\t55000\n",
      "Test-set:\t\t10000\n",
      "Validation-set:\t\t5000\n"
     ]
    }
   ],
   "source": [
    "# We check the size of the datasets Train, Test and Validation\n",
    "\n",
    "print(\"Training-set:\\t\\t{}\".format(len(data.train.labels)))\n",
    "print(\"Test-set:\\t\\t{}\".format(len(data.test.labels)))\n",
    "print(\"Validation-set:\\t\\t{}\".format(len(data.validation.labels)))"
   ]
  },
  {
   "cell_type": "code",
   "execution_count": 75,
   "metadata": {},
   "outputs": [
    {
     "data": {
      "text/plain": [
       "array([6, 9, 2, 6, 9, 7, 2, 9, 1, 5])"
      ]
     },
     "execution_count": 75,
     "metadata": {},
     "output_type": "execute_result"
    }
   ],
   "source": [
    "# We noticed that the labels are hot encoded. \n",
    "# We figure out the exact class label number using following code-\n",
    "data.train.cls = np.array([label.argmax() for label in data.train.labels])\n",
    "data.train.cls[0:10] # labels for first 10 images in training dataset\n",
    "# We figure out the exact class label number using following code-\n",
    "data.test.cls = np.array([label.argmax() for label in data.test.labels])\n",
    "data.test.cls[0:10] # labels for first 10 images in training dataset"
   ]
  },
  {
   "cell_type": "code",
   "execution_count": 15,
   "metadata": {
    "collapsed": true
   },
   "outputs": [],
   "source": [
    "# Data Dimensions or setting variables for some essential known factors\n",
    "image_size = 28 # MNIST images are 28x28 pixeled\n",
    "image_size_flat = image_size*image_size # one dimensional array for image\n",
    "image_shape = (image_size, image_size) # size in this case is (28,28) indicating height and width in pixels\n",
    "number_classes = 10 # total number of labels\n"
   ]
  },
  {
   "cell_type": "code",
   "execution_count": 41,
   "metadata": {},
   "outputs": [
    {
     "name": "stdout",
     "output_type": "stream",
     "text": [
      "[ 0.  0.  0.  1.  0.  0.  0.  0.  0.  0.]\n",
      "3\n"
     ]
    },
    {
     "data": {
      "image/png": "[encoded data removed]",
      "text/plain": [
       "<matplotlib.figure.Figure at 0x118619550>"
      ]
     },
     "metadata": {},
     "output_type": "display_data"
    }
   ],
   "source": [
    "# We check what is the first image and reshape is used because data.train.images[1] is 1 dimensional vector \n",
    "# and we need to reshape it to be of 28x28 shaped pixel image\n",
    "plt.imshow(data.train.images[1].reshape(image_shape)) \n",
    "print(data.train.labels[1])\n",
    "print(data.train.cls[1])\n"
   ]
  },
  {
   "cell_type": "markdown",
   "metadata": {},
   "source": [
    "### Purpose of TensorFlow is to have a computational graph. \n",
    "#### TensorFlow graph consists of -\n",
    "1. Placeholder variables - used for changing graph inputs\n",
    "2. Model variables - used for finding optimized model parameters\n",
    "3. Model\n",
    "4. Cost Metric- used for optimizing the model variables\n",
    "5. Optimization Method"
   ]
  },
  {
   "cell_type": "markdown",
   "metadata": {},
   "source": [
    "### Define Placeholder Variables"
   ]
  },
  {
   "cell_type": "code",
   "execution_count": 42,
   "metadata": {
    "collapsed": true
   },
   "outputs": [],
   "source": [
    "# We define the placeholder variable\n",
    "X = tf.placeholder(tf.float32,[None, image_size_flat])\n",
    "# tf.float32 is data type float for the placeholder variable\n",
    "# then this variable is a 2 D variable/array/matrix where we set number of rows for this matrix to be none,\n",
    "# which means it can have any number of rows and number of columns is fixed to image_size_flat (28*28)\n",
    "# This means X has many rows, one row per image & all the images are flattened thus having total 28*28 columns"
   ]
  },
  {
   "cell_type": "code",
   "execution_count": 44,
   "metadata": {
    "collapsed": true
   },
   "outputs": [],
   "source": [
    "# For every image there is corresponding label\n",
    "# we create a place holder for label\n",
    "# its datatype is float and number of rows is not fixed but number of columns is equal to total unique classes (i.e. 10)\n",
    "y_true = tf.placeholder(tf.float32, [None,number_classes])"
   ]
  },
  {
   "cell_type": "code",
   "execution_count": 45,
   "metadata": {
    "collapsed": true
   },
   "outputs": [],
   "source": [
    "# Actual Class\n",
    "# Number of rows could be arbitrary\n",
    "# data type is integer\n",
    "# This is a 1 dimensional vector storing only class labels in integer format\n",
    "y_true_class = tf.placeholder(tf.int64, [None])"
   ]
  },
  {
   "cell_type": "markdown",
   "metadata": {},
   "source": [
    "### Define Model Variables or Parameters to be optimized"
   ]
  },
  {
   "cell_type": "code",
   "execution_count": 46,
   "metadata": {
    "collapsed": true
   },
   "outputs": [],
   "source": [
    "# We define weights variable for optimization\n",
    "# initialize it to 0\n",
    "weights = tf.Variable(tf.zeros([image_size_flat, number_classes]))"
   ]
  },
  {
   "cell_type": "code",
   "execution_count": 47,
   "metadata": {
    "collapsed": true
   },
   "outputs": [],
   "source": [
    "# We also define bias\n",
    "# Initialize it to 0\n",
    "bias = tf.Variable(tf.zeros([number_classes]))"
   ]
  },
  {
   "cell_type": "markdown",
   "metadata": {},
   "source": [
    "### Define Model"
   ]
  },
  {
   "cell_type": "code",
   "execution_count": 48,
   "metadata": {
    "collapsed": true
   },
   "outputs": [],
   "source": [
    "# Model is supposed to multiply weights to the columns of flattened image and then add bias\n",
    "# Result is a matrix of [number_of_images, number_classes]\n",
    "# Weight is matrix of size [image_size_flat, number_classes]\n",
    "# image is a matrix of size [number_of_images, image_size_flat]\n",
    "# bias is a matrix of size [number_of_images]\n",
    "\n",
    "# we name the model as logits as it is a typical TensorFlow terminology\n",
    "logits = tf.matmul(X,weights)+bias\n",
    "\n",
    "# The output of this model is a matrix with rows containing image and columns containing class(0 to 9)\n",
    "# Element value of ith row and jth column indicates how likely the ith image corresponds to jth class.\n",
    "\n",
    "# The output of these models however are rough estimates and interpretation is difficult so normalization is advised\n",
    "# To interpret these values as probabilities, we normalize the values such that over all classes the sum is 1\n",
    "# This can be accomplished using softmax\n",
    "y_pred = tf.nn.softmax(logits)"
   ]
  },
  {
   "cell_type": "code",
   "execution_count": 50,
   "metadata": {
    "collapsed": true
   },
   "outputs": [],
   "source": [
    "y_pred_cls = tf.argmax(y_pred, dimension=1)\n",
    "# this gives the predicted class by choosing the class that has highest probability listed"
   ]
  },
  {
   "cell_type": "markdown",
   "metadata": {},
   "source": [
    "### Define Cost Function"
   ]
  },
  {
   "cell_type": "code",
   "execution_count": 51,
   "metadata": {
    "collapsed": true
   },
   "outputs": [],
   "source": [
    "# Purpose is to optimize weights and biases\n",
    "# Cross entropy is used as it gives a continuous function such that if the match is perfect output is 0 else \n",
    "# it returns some positive value\n",
    "# For every image we calculate cross entropy between true and predicted classes\n",
    "# we will use logits model and y_true for buiding this cost function\n",
    "cross_entropy = tf.nn.softmax_cross_entropy_with_logits(logits = logits, labels = y_true)\n",
    "\n",
    "# this gives cross entropy for every input image\n",
    "# for single scaler value to be returned by the cross_entropy, average of all cross_entropy is calculated\n",
    "cost = tf.reduce_mean(cross_entropy)"
   ]
  },
  {
   "cell_type": "markdown",
   "metadata": {},
   "source": [
    "### Define Optimization Method"
   ]
  },
  {
   "cell_type": "code",
   "execution_count": 52,
   "metadata": {
    "collapsed": true
   },
   "outputs": [],
   "source": [
    "# we shall use gradient descent method\n",
    "# minimize the cross_entropy cost\n",
    "# set step size as 0.5\n",
    "optimizer = tf.train.GradientDescentOptimizer(learning_rate=0.5).minimize(cost)"
   ]
  },
  {
   "cell_type": "markdown",
   "metadata": {},
   "source": [
    "### Define Performance Measures"
   ]
  },
  {
   "cell_type": "code",
   "execution_count": 55,
   "metadata": {},
   "outputs": [],
   "source": [
    "# we find out correct number of predictions\n",
    "correct_pred = tf.equal(y_pred_cls, y_true_class)\n",
    "\n",
    "# we find now the classification accuracy\n",
    "accuracy = tf.reduce_mean(tf.cast(correct_pred, tf.float32))"
   ]
  },
  {
   "cell_type": "markdown",
   "metadata": {},
   "source": [
    "## TensorFlow Graph\n",
    "\n",
    "### Initiate TensorFlow Session"
   ]
  },
  {
   "cell_type": "code",
   "execution_count": 58,
   "metadata": {
    "collapsed": true
   },
   "outputs": [],
   "source": [
    "# First create TensorFlow session\n",
    "session = tf.Session()"
   ]
  },
  {
   "cell_type": "code",
   "execution_count": 60,
   "metadata": {},
   "outputs": [],
   "source": [
    "# Initialize variables weights and bias before optimizing them\n",
    "session.run(tf.global_variables_initializer())"
   ]
  },
  {
   "cell_type": "markdown",
   "metadata": {},
   "source": [
    "### Define Optimization Iterations Function"
   ]
  },
  {
   "cell_type": "code",
   "execution_count": 62,
   "metadata": {},
   "outputs": [],
   "source": [
    "# initialize a batch_size for passing only a set of images from the training data as dataset contains over 50000 images\n",
    "batch_size = 200\n",
    "\n",
    "# define the function for optimizing which takes in iterations required\n",
    "# for every iteration it should take a random batch of 100 images \n",
    "# for every iteration it should have a dictionary storing the image and its true labels\n",
    "# for every iteration then we run the optimizer function with the feed dictionary\n",
    "\n",
    "def optimize(iterations):\n",
    "    for i in range(iterations):\n",
    "        x_batch, y_true_batch = data.train.next_batch(batch_size)\n",
    "        feed_dict_training = {x: x_batch, y_true: y_true_batch}\n",
    "        session.run(optimizer, feed_dict = feed_dict_training)"
   ]
  },
  {
   "cell_type": "markdown",
   "metadata": {},
   "source": [
    "### Define function to find performance (Performance measures and functions.....) Work in progress.."
   ]
  },
  {
   "cell_type": "code",
   "execution_count": null,
   "metadata": {},
   "outputs": [],
   "source": []
  },
  {
   "cell_type": "code",
   "execution_count": null,
   "metadata": {
    "collapsed": true
   },
   "outputs": [],
   "source": []
  }
 ],
 "metadata": {
  "kernelspec": {
   "display_name": "Python 2",
   "language": "python",
   "name": "python2"
  },
  "language_info": {
   "codemirror_mode": {
    "name": "ipython",
    "version": 2
   },
   "file_extension": ".py",
   "mimetype": "text/x-python",
   "name": "python",
   "nbconvert_exporter": "python",
   "pygments_lexer": "ipython2",
   "version": "2.7.13"
  }
 },
 "nbformat": 4,
 "nbformat_minor": 2
}
