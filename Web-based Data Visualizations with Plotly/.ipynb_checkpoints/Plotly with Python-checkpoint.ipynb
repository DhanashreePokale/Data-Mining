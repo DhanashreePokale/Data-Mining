{
 "cells": [
  {
   "cell_type": "markdown",
   "metadata": {},
   "source": [
    "# Plotly\n",
    "\n",
    "Data Visualization library used to construct web friendly d3.js standard chart graphs using only Python Numpy, Pandas in Plotly library.\n",
    "\n",
    "    Plotly works with \n",
    "    1. NumPy, Pandas, matplotlib & Jupyter\n",
    "    2. R\n",
    "    3. SQL\n",
    "    4. Excel\n",
    "    \n",
    "### Cufflinks for Pandas in Plotly\n",
    "\n",
    "It is a library useful for binding Plotly to Pandas objects within the Jupyter notebook.\n",
    "\n",
    "### Plotly Attributes\n",
    "\n",
    "To generate Plotly plots from Numpy objects, you use the following Plotly attributes:\n",
    "    a. Traces - These are objects that describe a single variable of the data in a graph, eg, a scatterplot or heatmap\n",
    "    b. Layouts - You use these attributes to set layout elements for your plot, eg: the title, axes, annotations\n",
    "    \n"
   ]
  },
  {
   "cell_type": "code",
   "execution_count": 1,
   "metadata": {
    "collapsed": false
   },
   "outputs": [
    {
     "name": "stdout",
     "output_type": "stream",
     "text": [
      "Collecting Plotly\n",
      "  Downloading plotly-2.0.9.tar.gz (964kB)\n",
      "\u001b[K    100% |████████████████████████████████| 972kB 600kB/s ta 0:00:01\n",
      "\u001b[?25hRequirement already satisfied: decorator>=4.0.6 in /Library/Frameworks/Python.framework/Versions/2.7/lib/python2.7/site-packages (from Plotly)\n",
      "Collecting nbformat>=4.2 (from Plotly)\n",
      "  Using cached nbformat-4.3.0-py2.py3-none-any.whl\n",
      "Requirement already satisfied: pytz in /Library/Frameworks/Python.framework/Versions/2.7/lib/python2.7/site-packages (from Plotly)\n",
      "Collecting requests (from Plotly)\n",
      "  Downloading requests-2.17.3-py2.py3-none-any.whl (87kB)\n",
      "\u001b[K    100% |████████████████████████████████| 92kB 1.9MB/s ta 0:00:011\n",
      "\u001b[?25hRequirement already satisfied: six in /Library/Frameworks/Python.framework/Versions/2.7/lib/python2.7/site-packages (from Plotly)\n",
      "Collecting ipython-genutils (from nbformat>=4.2->Plotly)\n",
      "  Using cached ipython_genutils-0.2.0-py2.py3-none-any.whl\n",
      "Collecting jsonschema!=2.5.0,>=2.4 (from nbformat>=4.2->Plotly)\n",
      "  Using cached jsonschema-2.6.0-py2.py3-none-any.whl\n",
      "Collecting traitlets>=4.1 (from nbformat>=4.2->Plotly)\n",
      "  Using cached traitlets-4.3.2-py2.py3-none-any.whl\n",
      "Collecting jupyter-core (from nbformat>=4.2->Plotly)\n",
      "  Using cached jupyter_core-4.3.0-py2.py3-none-any.whl\n",
      "Collecting chardet<3.1.0,>=3.0.2 (from requests->Plotly)\n",
      "  Downloading chardet-3.0.3-py2.py3-none-any.whl (133kB)\n",
      "\u001b[K    100% |████████████████████████████████| 143kB 309kB/s ta 0:00:01\n",
      "\u001b[?25hCollecting certifi>=2017.4.17 (from requests->Plotly)\n",
      "  Using cached certifi-2017.4.17-py2.py3-none-any.whl\n",
      "Collecting idna<2.6,>=2.5 (from requests->Plotly)\n",
      "  Downloading idna-2.5-py2.py3-none-any.whl (55kB)\n",
      "\u001b[K    100% |████████████████████████████████| 61kB 484kB/s ta 0:00:01\n",
      "\u001b[?25hCollecting urllib3<1.22,>=1.21.1 (from requests->Plotly)\n",
      "  Downloading urllib3-1.21.1-py2.py3-none-any.whl (131kB)\n",
      "\u001b[K    100% |████████████████████████████████| 133kB 572kB/s ta 0:00:01\n",
      "\u001b[?25hRequirement already satisfied: functools32; python_version == \"2.7\" in /Library/Frameworks/Python.framework/Versions/2.7/lib/python2.7/site-packages (from jsonschema!=2.5.0,>=2.4->nbformat>=4.2->Plotly)\n",
      "Collecting enum34; python_version == \"2.7\" (from traitlets>=4.1->nbformat>=4.2->Plotly)\n",
      "  Using cached enum34-1.1.6-py2-none-any.whl\n",
      "Building wheels for collected packages: Plotly\n",
      "  Running setup.py bdist_wheel for Plotly ... \u001b[?25l-\b \b\\\b \bdone\n",
      "\u001b[?25h  Stored in directory: /Users/dhanashreepokale/Library/Caches/pip/wheels/f6/09/13/58e582110bb6ef72de81cdf497981d274bc9f10e1d0be09530\n",
      "Successfully built Plotly\n",
      "Installing collected packages: ipython-genutils, jsonschema, enum34, traitlets, jupyter-core, nbformat, chardet, certifi, idna, urllib3, requests, Plotly\n",
      "Successfully installed Plotly-2.0.9 certifi-2017.4.17 chardet-3.0.3 enum34-1.1.6 idna-2.5 ipython-genutils-0.2.0 jsonschema-2.6.0 jupyter-core-4.3.0 nbformat-4.3.0 requests-2.17.3 traitlets-4.3.2 urllib3-1.21.1\n"
     ]
    }
   ],
   "source": [
    "! pip install Plotly"
   ]
  },
  {
   "cell_type": "code",
   "execution_count": 5,
   "metadata": {
    "collapsed": false
   },
   "outputs": [
    {
     "name": "stdout",
     "output_type": "stream",
     "text": [
      "Requirement already satisfied: cufflinks in /Library/Frameworks/Python.framework/Versions/2.7/lib/python2.7/site-packages\n",
      "Requirement already satisfied: pandas in /Library/Frameworks/Python.framework/Versions/2.7/lib/python2.7/site-packages (from cufflinks)\n",
      "Requirement already satisfied: plotly>=1.7.6 in /Library/Frameworks/Python.framework/Versions/2.7/lib/python2.7/site-packages (from cufflinks)\n",
      "Requirement already satisfied: colorlover>=0.2 in /Library/Frameworks/Python.framework/Versions/2.7/lib/python2.7/site-packages (from cufflinks)\n",
      "Requirement already satisfied: numpy>=1.7.0 in /Library/Frameworks/Python.framework/Versions/2.7/lib/python2.7/site-packages (from pandas->cufflinks)\n",
      "Requirement already satisfied: python-dateutil in /Library/Frameworks/Python.framework/Versions/2.7/lib/python2.7/site-packages (from pandas->cufflinks)\n",
      "Requirement already satisfied: pytz>=2011k in /Library/Frameworks/Python.framework/Versions/2.7/lib/python2.7/site-packages (from pandas->cufflinks)\n",
      "Requirement already satisfied: nbformat>=4.2 in /Library/Frameworks/Python.framework/Versions/2.7/lib/python2.7/site-packages (from plotly>=1.7.6->cufflinks)\n",
      "Requirement already satisfied: six in /Library/Frameworks/Python.framework/Versions/2.7/lib/python2.7/site-packages (from plotly>=1.7.6->cufflinks)\n",
      "Requirement already satisfied: decorator>=4.0.6 in /Library/Frameworks/Python.framework/Versions/2.7/lib/python2.7/site-packages (from plotly>=1.7.6->cufflinks)\n",
      "Requirement already satisfied: requests in /Library/Frameworks/Python.framework/Versions/2.7/lib/python2.7/site-packages (from plotly>=1.7.6->cufflinks)\n",
      "Requirement already satisfied: ipython-genutils in /Library/Frameworks/Python.framework/Versions/2.7/lib/python2.7/site-packages (from nbformat>=4.2->plotly>=1.7.6->cufflinks)\n",
      "Requirement already satisfied: jsonschema!=2.5.0,>=2.4 in /Library/Frameworks/Python.framework/Versions/2.7/lib/python2.7/site-packages (from nbformat>=4.2->plotly>=1.7.6->cufflinks)\n",
      "Requirement already satisfied: traitlets>=4.1 in /Library/Frameworks/Python.framework/Versions/2.7/lib/python2.7/site-packages (from nbformat>=4.2->plotly>=1.7.6->cufflinks)\n",
      "Requirement already satisfied: jupyter-core in /Library/Frameworks/Python.framework/Versions/2.7/lib/python2.7/site-packages (from nbformat>=4.2->plotly>=1.7.6->cufflinks)\n",
      "Requirement already satisfied: chardet<3.1.0,>=3.0.2 in /Library/Frameworks/Python.framework/Versions/2.7/lib/python2.7/site-packages (from requests->plotly>=1.7.6->cufflinks)\n",
      "Requirement already satisfied: certifi>=2017.4.17 in /Library/Frameworks/Python.framework/Versions/2.7/lib/python2.7/site-packages (from requests->plotly>=1.7.6->cufflinks)\n",
      "Requirement already satisfied: idna<2.6,>=2.5 in /Library/Frameworks/Python.framework/Versions/2.7/lib/python2.7/site-packages (from requests->plotly>=1.7.6->cufflinks)\n",
      "Requirement already satisfied: urllib3<1.22,>=1.21.1 in /Library/Frameworks/Python.framework/Versions/2.7/lib/python2.7/site-packages (from requests->plotly>=1.7.6->cufflinks)\n",
      "Requirement already satisfied: functools32; python_version == \"2.7\" in /Library/Frameworks/Python.framework/Versions/2.7/lib/python2.7/site-packages (from jsonschema!=2.5.0,>=2.4->nbformat>=4.2->plotly>=1.7.6->cufflinks)\n",
      "Requirement already satisfied: enum34; python_version == \"2.7\" in /Library/Frameworks/Python.framework/Versions/2.7/lib/python2.7/site-packages (from traitlets>=4.1->nbformat>=4.2->plotly>=1.7.6->cufflinks)\n"
     ]
    }
   ],
   "source": [
    "! pip install cufflinks"
   ]
  },
  {
   "cell_type": "code",
   "execution_count": 1,
   "metadata": {
    "collapsed": true
   },
   "outputs": [],
   "source": [
    "import numpy as np\n",
    "import pandas as pd\n",
    "import cufflinks as cf\n",
    "\n",
    "import plotly.plotly as py\n",
    "import plotly.tools as tls\n",
    "import plotly.graph_objs as go"
   ]
  },
  {
   "cell_type": "code",
   "execution_count": 2,
   "metadata": {
    "collapsed": true
   },
   "outputs": [],
   "source": [
    "# Needs Plotly credentials\n",
    "tls.set_credentials_file(username = 'DhanashreePokale' , api_key = 'ejGzf6w73VNfEMYiYdi9' )"
   ]
  },
  {
   "cell_type": "code",
   "execution_count": 4,
   "metadata": {
    "collapsed": false
   },
   "outputs": [
    {
     "name": "stdout",
     "output_type": "stream",
     "text": [
      "High five! You successfuly sent some data to your account on plotly. View your plot in your browser at https://plot.ly/~DhanashreePokale/0 or inside your plot.ly account where it is named 'Basic Line Chart'\n"
     ]
    },
    {
     "data": {
      "text/html": [
       "<iframe id=\"igraph\" scrolling=\"no\" style=\"border:none;\" seamless=\"seamless\" src=\"https://plot.ly/~DhanashreePokale/0.embed\" height=\"525px\" width=\"100%\"></iframe>"
      ],
      "text/plain": [
       "<plotly.tools.PlotlyDisplay object>"
      ]
     },
     "execution_count": 4,
     "metadata": {},
     "output_type": "execute_result"
    }
   ],
   "source": [
    "# Creating Line Charts\n",
    "# Basic Line Chart\n",
    "a = np.linspace(start = 0, stop =36, num = 36)\n",
    "\n",
    "np.random.seed(25)\n",
    "b = np.random.uniform(low =0.0, high = 1.0, size = 36)\n",
    "\n",
    "trace = go.Scatter(x= a, y=b)\n",
    "\n",
    "data = [trace]\n",
    "\n",
    "py.iplot(data, filename = 'Basic Line Chart')"
   ]
  },
  {
   "cell_type": "code",
   "execution_count": 6,
   "metadata": {
    "collapsed": false
   },
   "outputs": [
    {
     "name": "stdout",
     "output_type": "stream",
     "text": [
      "{'yaxis': {'title': 'y-axis'}, 'xaxis': {'title': 'x-axis'}, 'title': 'Double Line Chart'}\n"
     ]
    }
   ],
   "source": [
    "# A line Chart with more than one variable plotted\n",
    "x = [1,2,3,4,5,6,7,8,9]\n",
    "y = [1,2,3,4,0,4,3,2,1]\n",
    "Z = [10,9,8,7,6,5,4,3,2,1]\n",
    "\n",
    "trace0 = go.Scatter(x=x,y=y, name = 'List Object1', line = dict(width = 5))\n",
    "trace1 = go.Scatter(x=x,y=Z, name = 'List Object2', line = dict(width = 5))\n",
    "\n",
    "data = [trace0, trace1]\n",
    "\n",
    "layout = dict(title = 'Double Line Chart', xaxis = dict(title = 'x-axis'), yaxis = dict(title = 'y-axis'))\n",
    "print(layout)"
   ]
  },
  {
   "cell_type": "code",
   "execution_count": 8,
   "metadata": {
    "collapsed": false
   },
   "outputs": [
    {
     "name": "stdout",
     "output_type": "stream",
     "text": [
      "{'layout': {'yaxis': {'title': 'y-axis'}, 'xaxis': {'title': 'x-axis'}, 'title': 'Double Line Chart'}, 'data': [{'y': [1, 2, 3, 4, 0, 4, 3, 2, 1], 'x': [1, 2, 3, 4, 5, 6, 7, 8, 9], 'line': {'width': 5}, 'type': 'scatter', 'name': 'List Object1'}, {'y': [10, 9, 8, 7, 6, 5, 4, 3, 2, 1], 'x': [1, 2, 3, 4, 5, 6, 7, 8, 9], 'line': {'width': 5}, 'type': 'scatter', 'name': 'List Object2'}]}\n"
     ]
    }
   ],
   "source": [
    "fig = dict(data = data, layout = layout)\n",
    "print(fig)"
   ]
  },
  {
   "cell_type": "code",
   "execution_count": 9,
   "metadata": {
    "collapsed": false
   },
   "outputs": [
    {
     "data": {
      "text/html": [
       "<iframe id=\"igraph\" scrolling=\"no\" style=\"border:none;\" seamless=\"seamless\" src=\"https://plot.ly/~DhanashreePokale/2.embed\" height=\"525px\" width=\"100%\"></iframe>"
      ],
      "text/plain": [
       "<plotly.tools.PlotlyDisplay object>"
      ]
     },
     "execution_count": 9,
     "metadata": {},
     "output_type": "execute_result"
    }
   ],
   "source": [
    "py.iplot(fig, filename = 'Styled Line Chart')"
   ]
  },
  {
   "cell_type": "code",
   "execution_count": 10,
   "metadata": {
    "collapsed": false
   },
   "outputs": [
    {
     "name": "stderr",
     "output_type": "stream",
     "text": [
      "/Library/Frameworks/Python.framework/Versions/2.7/lib/python2.7/site-packages/cufflinks/plotlytools.py:156: FutureWarning:\n",
      "\n",
      "pandas.tslib is deprecated and will be removed in a future version.\n",
      "You can access Timestamp as pandas.Timestamp\n",
      "\n"
     ]
    },
    {
     "data": {
      "text/html": [
       "<iframe id=\"igraph\" scrolling=\"no\" style=\"border:none;\" seamless=\"seamless\" src=\"https://plot.ly/~DhanashreePokale/4.embed\" height=\"525px\" width=\"100%\"></iframe>"
      ],
      "text/plain": [
       "<plotly.tools.PlotlyDisplay object>"
      ]
     },
     "execution_count": 10,
     "metadata": {},
     "output_type": "execute_result"
    }
   ],
   "source": [
    "# Create Line Chart using Pandas\n",
    "address = '/Users/dhanashreepokale/Downloads/Ex_Files_Python_Data_Science_EssT/Exercise Files/Ch01/01_05/mtcars.csv'\n",
    "cars = pd.read_csv(address)\n",
    "cars.columns = ['car_names','mpg','cyl','disp','hp','drat','wt','qsec','vs','am','gear','carb']\n",
    "df = cars[['mpg','cyl','wt']]\n",
    "\n",
    "layout = dict(title = 'Chart from Pandas DataFrame',xaxis = dict(title = 'x-axis'), yaxis = dict(title = 'y-axis'))\n",
    "\n",
    "df.iplot(filename = 'cf simple line chart', layout = layout)"
   ]
  },
  {
   "cell_type": "code",
   "execution_count": 11,
   "metadata": {
    "collapsed": false
   },
   "outputs": [
    {
     "name": "stdout",
     "output_type": "stream",
     "text": [
      "[{'y': [1, 2, 3, 4, 0, 4, 3, 2, 1], 'x': [1, 2, 3, 4, 5, 6, 7, 8, 9, 10], 'type': 'bar'}]\n"
     ]
    }
   ],
   "source": [
    "# creating bar chart\n",
    "data = [go.Bar(x= [1,2,3,4,5,6,7,8,9,10], y= [1,2,3,4,0,4,3,2,1])]\n",
    "print(data)\n",
    "        "
   ]
  },
  {
   "cell_type": "code",
   "execution_count": 12,
   "metadata": {
    "collapsed": true
   },
   "outputs": [],
   "source": [
    "layout = dict(title = 'simple bar chart', xaxis = dict(title = 'x-axis'), yaxis = dict(title = 'y-axis'))"
   ]
  },
  {
   "cell_type": "code",
   "execution_count": 13,
   "metadata": {
    "collapsed": false
   },
   "outputs": [
    {
     "data": {
      "text/html": [
       "<iframe id=\"igraph\" scrolling=\"no\" style=\"border:none;\" seamless=\"seamless\" src=\"https://plot.ly/~DhanashreePokale/6.embed\" height=\"525px\" width=\"100%\"></iframe>"
      ],
      "text/plain": [
       "<plotly.tools.PlotlyDisplay object>"
      ]
     },
     "execution_count": 13,
     "metadata": {},
     "output_type": "execute_result"
    }
   ],
   "source": [
    "py.iplot(data, filename = 'basic - bar -chart', layout=layout)"
   ]
  },
  {
   "cell_type": "code",
   "execution_count": 17,
   "metadata": {
    "collapsed": false
   },
   "outputs": [
    {
     "name": "stdout",
     "output_type": "stream",
     "text": [
      "{'color': ['rgba(169,169,169,1)', 'rgba(255,160,122,1)', 'rgba(178,224,230,1)', 'rgba(255,228,196,1)', 'rgba(189,183,107,1)', 'rgba(188,143,143,1)', 'rgba(221,160,221,1)']}\n"
     ]
    }
   ],
   "source": [
    "color_theme = dict(color =['rgba(169,169,169,1)','rgba(255,160,122,1)','rgba(178,224,230,1)','rgba(255,228,196,1)', 'rgba(189,183,107,1)','rgba(188,143,143,1)','rgba(221,160,221,1)' ])\n",
    "print(color_theme)"
   ]
  },
  {
   "cell_type": "code",
   "execution_count": 18,
   "metadata": {
    "collapsed": false
   },
   "outputs": [
    {
     "data": {
      "text/html": [
       "<iframe id=\"igraph\" scrolling=\"no\" style=\"border:none;\" seamless=\"seamless\" src=\"https://plot.ly/~DhanashreePokale/8.embed\" height=\"525px\" width=\"100%\"></iframe>"
      ],
      "text/plain": [
       "<plotly.tools.PlotlyDisplay object>"
      ]
     },
     "execution_count": 18,
     "metadata": {},
     "output_type": "execute_result"
    }
   ],
   "source": [
    "trace0= go.Bar(x=(1,2,3,4,5,6,7), y = (1,2,3,4,0.5,3,1), marker = color_theme)\n",
    "data = [trace0]\n",
    "layout = go.Layout(title = 'Custom Colors')\n",
    "fig = go.Figure(data = data, layout = layout)\n",
    "\n",
    "py.iplot(fig, filename = 'color-bar-chart')"
   ]
  },
  {
   "cell_type": "code",
   "execution_count": 21,
   "metadata": {
    "collapsed": false
   },
   "outputs": [
    {
     "data": {
      "text/html": [
       "<iframe id=\"igraph\" scrolling=\"no\" style=\"border:none;\" seamless=\"seamless\" src=\"https://plot.ly/~DhanashreePokale/10.embed\" height=\"525px\" width=\"100%\"></iframe>"
      ],
      "text/plain": [
       "<plotly.tools.PlotlyDisplay object>"
      ]
     },
     "execution_count": 21,
     "metadata": {},
     "output_type": "execute_result"
    }
   ],
   "source": [
    "# Creating pie chart\n",
    "fig = {'data':[{'labels':['bicycle','motorbike','car','van','stroller'],\n",
    "               'values':[1,2,3,4,0.5],'type':'pie'}],\n",
    "                'layout':{'title': 'Simple Pie Chart'}}\n",
    "\n",
    "py.iplot(fig)"
   ]
  },
  {
   "cell_type": "markdown",
   "metadata": {},
   "source": [
    "## Statistical Plots in Plotly\n",
    "1. Simple histogram chart - a series object plotted as a simple, interactive histogram\n",
    "2. Multiple histogram chart - a dataframe object plotted out in overlapping,transparent, interactive histograms\n",
    "3. Subplot histograms - a dataframe object plotted out in separate, clear, interactive subplots\n",
    "\n",
    "##### Note: The 'mode' parameter should always be set to 'markers'. By default, plotly will draw lines between data points. So, if we don't want lines, plot needs to be designated as marker.\n"
   ]
  },
  {
   "cell_type": "code",
   "execution_count": 22,
   "metadata": {
    "collapsed": true
   },
   "outputs": [],
   "source": [
    "import sklearn\n",
    "from sklearn.preprocessing import StandardScaler"
   ]
  },
  {
   "cell_type": "code",
   "execution_count": 23,
   "metadata": {
    "collapsed": false
   },
   "outputs": [
    {
     "data": {
      "text/html": [
       "<iframe id=\"igraph\" scrolling=\"no\" style=\"border:none;\" seamless=\"seamless\" src=\"https://plot.ly/~DhanashreePokale/12.embed\" height=\"525px\" width=\"100%\"></iframe>"
      ],
      "text/plain": [
       "<plotly.tools.PlotlyDisplay object>"
      ]
     },
     "execution_count": 23,
     "metadata": {},
     "output_type": "execute_result"
    }
   ],
   "source": [
    "mpg = cars.mpg\n",
    "mpg.iplot(kind ='histogram', filename = 'simple histogram chart')"
   ]
  },
  {
   "cell_type": "code",
   "execution_count": 30,
   "metadata": {
    "collapsed": false
   },
   "outputs": [
    {
     "data": {
      "text/html": [
       "<iframe id=\"igraph\" scrolling=\"no\" style=\"border:none;\" seamless=\"seamless\" src=\"https://plot.ly/~DhanashreePokale/14.embed\" height=\"525px\" width=\"100%\"></iframe>"
      ],
      "text/plain": [
       "<plotly.tools.PlotlyDisplay object>"
      ]
     },
     "execution_count": 30,
     "metadata": {},
     "output_type": "execute_result"
    }
   ],
   "source": [
    "cars_data = cars[['mpg','disp','hp']].values\n",
    "\n",
    "cars_data_std = StandardScaler().fit_transform(cars_data)\n",
    "\n",
    "cars_select = pd.DataFrame(cars_data_std)\n",
    "cars_select.columns = ['mpg','disp','hp']\n",
    "\n",
    "cars_select.iplot(kind = 'histogram', filename ='multiple histogram chart')"
   ]
  },
  {
   "cell_type": "code",
   "execution_count": 29,
   "metadata": {
    "collapsed": false
   },
   "outputs": [
    {
     "data": {
      "text/html": [
       "<iframe id=\"igraph\" scrolling=\"no\" style=\"border:none;\" seamless=\"seamless\" src=\"https://plot.ly/~DhanashreePokale/16.embed\" height=\"525px\" width=\"100%\"></iframe>"
      ],
      "text/plain": [
       "<plotly.tools.PlotlyDisplay object>"
      ]
     },
     "execution_count": 29,
     "metadata": {},
     "output_type": "execute_result"
    }
   ],
   "source": [
    "cars_select.iplot(kind = 'histogram', subplots = True, filename ='subplot histogram chart')"
   ]
  },
  {
   "cell_type": "code",
   "execution_count": 31,
   "metadata": {
    "collapsed": false
   },
   "outputs": [
    {
     "data": {
      "text/html": [
       "<iframe id=\"igraph\" scrolling=\"no\" style=\"border:none;\" seamless=\"seamless\" src=\"https://plot.ly/~DhanashreePokale/16.embed\" height=\"525px\" width=\"100%\"></iframe>"
      ],
      "text/plain": [
       "<plotly.tools.PlotlyDisplay object>"
      ]
     },
     "execution_count": 31,
     "metadata": {},
     "output_type": "execute_result"
    }
   ],
   "source": [
    "cars_select.iplot(kind = 'histogram', subplots = True,shape=(3,1), filename ='subplot histogram chart')"
   ]
  },
  {
   "cell_type": "code",
   "execution_count": 32,
   "metadata": {
    "collapsed": false
   },
   "outputs": [
    {
     "data": {
      "text/html": [
       "<iframe id=\"igraph\" scrolling=\"no\" style=\"border:none;\" seamless=\"seamless\" src=\"https://plot.ly/~DhanashreePokale/16.embed\" height=\"525px\" width=\"100%\"></iframe>"
      ],
      "text/plain": [
       "<plotly.tools.PlotlyDisplay object>"
      ]
     },
     "execution_count": 32,
     "metadata": {},
     "output_type": "execute_result"
    }
   ],
   "source": [
    "cars_select.iplot(kind = 'histogram', subplots = True,shape=(1,3), filename ='subplot histogram chart')"
   ]
  },
  {
   "cell_type": "code",
   "execution_count": 35,
   "metadata": {
    "collapsed": false
   },
   "outputs": [
    {
     "data": {
      "text/html": [
       "<iframe id=\"igraph\" scrolling=\"no\" style=\"border:none;\" seamless=\"seamless\" src=\"https://plot.ly/~DhanashreePokale/18.embed\" height=\"525px\" width=\"100%\"></iframe>"
      ],
      "text/plain": [
       "<plotly.tools.PlotlyDisplay object>"
      ]
     },
     "execution_count": 35,
     "metadata": {},
     "output_type": "execute_result"
    }
   ],
   "source": [
    "# creating box plots\n",
    "cars_select.iplot(kind = 'box', filename = 'Boxplots')"
   ]
  },
  {
   "cell_type": "code",
   "execution_count": 37,
   "metadata": {
    "collapsed": false
   },
   "outputs": [
    {
     "data": {
      "text/html": [
       "<iframe id=\"igraph\" scrolling=\"no\" style=\"border:none;\" seamless=\"seamless\" src=\"https://plot.ly/~DhanashreePokale/20.embed\" height=\"525px\" width=\"100%\"></iframe>"
      ],
      "text/plain": [
       "<plotly.tools.PlotlyDisplay object>"
      ]
     },
     "execution_count": 37,
     "metadata": {},
     "output_type": "execute_result"
    }
   ],
   "source": [
    "# creating scatter plots\n",
    "fig = {'data':[{'x':cars_select.mpg,'y':cars_select.disp, 'mode':'markers','name':'mpg'  },\n",
    "               {'x':cars_select.hp,'y':cars_select.disp, 'mode':'markers','name':'hp'}]\n",
    "       , 'layout':{'xaxis':{'title':''},'yaxis':{'title':'Standardized Displacement'}}}\n",
    "py.iplot(fig, filename ='grouped scatter plot')"
   ]
  },
  {
   "cell_type": "markdown",
   "metadata": {},
   "source": [
    "## Geographic Maps in Plotly\n",
    "\n",
    "Maps are interactive, web friendly, easily sharable.\n",
    "\n",
    "2 types:\n",
    "    1. Data Objects - a list object that contains a dictionary specifying each of the parameters for the map's data\n",
    "    2. Layout objects - a nested dictionary object that specifies each of the parameters for the map's layout\n",
    "  \n",
    "  \n",
    "### Choropleth Map\n",
    "    Choropleth Map - Geographical maps where spatial areas are colored in hues that represent the quantity of a given attribute in that specific geographic region\n",
    "    Requirements: \n",
    "    1. use 'code' parameter to select geographical areas by name\n",
    "    2. data parameter: type = 'choropleth'\n",
    "    \n",
    "### Point Map\n",
    "    Geographical maps with dots placed at specific spatial locations that represent data points. Dot Size, color, or shape can be varied to add a layer of comparative detail when you look at the map.\n",
    "    Requirements:\n",
    "    1. Precise x-,y-position data for each observation\n",
    "    2. a marker parameter (instead of z-parameter)\n",
    "    3. pass an argument type = 'scattergeo'\n",
    "    "
   ]
  }
 ],
 "metadata": {
  "kernelspec": {
   "display_name": "Python 3",
   "language": "python",
   "name": "python3"
  },
  "language_info": {
   "codemirror_mode": {
    "name": "ipython",
    "version": 3
   },
   "file_extension": ".py",
   "mimetype": "text/x-python",
   "name": "python",
   "nbconvert_exporter": "python",
   "pygments_lexer": "ipython3",
   "version": "3.6.0"
  }
 },
 "nbformat": 4,
 "nbformat_minor": 2
}
