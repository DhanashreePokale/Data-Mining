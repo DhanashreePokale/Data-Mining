{
 "cells": [
  {
   "cell_type": "markdown",
   "metadata": {},
   "source": [
    "# Genetic Algorithms for Data Science\n",
    "\n",
    "\n",
    "## Topics covered:\n",
    "\n",
    "1. What is Genetic Algorithm?\n",
    "2. Biological Inspiration\n",
    "3. Evolution\n",
    "4. Algorithm Mechanics\n",
    "5. Practical Applications - Knapsack Problem, Feature Selection, Traveling Salesman\n",
    "\n",
    "\n",
    "    \n",
    "## What is a Genetic Algorithm?\n",
    "\n",
    "A genetic algorithm is an adaptation procedure based on the mechanics of natural genetics and natural selection.\n",
    "It has 2 essential components-\n",
    "\n",
    "a. Survival of the fittest\n",
    "b. Genetic Diversity\n",
    "\n",
    "This algorithm was first developed by John Holland in 1975.\n",
    "It is a search heuristic that mimics the process of natural evolution & uses concepts of Darwin's theory of 'Natural Selection' and 'Genetic Inheritance'.\n",
    "\n",
    "Applications of Genetic Algorithms:\n",
    "\n",
    "1. Optimization & Search Problems\n",
    "2. Scheduling & Timetabling\n",
    "3. Aerospace Engineering\n",
    "4. Astronomy & Astrophysics\n",
    "5. Chemistry\n",
    "6. Electrical Engineering\n",
    "7. Financial Markets\n",
    "8. Game Playing \n",
    "9. Materials Engineering\n",
    "10. Military & Law Enforcement\n",
    "11. Molecular Biology\n",
    "12. Pattern Recognition & data mining\n",
    "13. Robotics\n",
    "    \n",
    "## Nature's Diversity\n",
    "\n",
    "Every other animal is adapted to the environment it lives in. We can certainly learn from nature and try to devise similar materials, approaches and try to solve our problems.\n",
    "\n",
    "## Evolution in Real World\n",
    "\n",
    "To understand biological processes properly, understanding cell is important. Human bodies contain trillions of **cells**.\n",
    "\n",
    "Every cell contain a core structure(nucleus) that contain **chromosomes**.And each of the 23 chromosomes are made up of tightly coiled strands of DNA.\n",
    "\n",
    "**Genes** are segments of DNA that determine specific traits, such as hair color. Humans have more than 20000 genes where every gene determines some aspect of organism. A collection of genes is called as genotype & collection of aspects(like hair color) is called as phenotype.\n",
    "\n",
    "**Gene Mutation** is an alteration of DNA which can be inherited or acquired during lifetime as cells age or when contacted with some chemicals. Some changes in genes may result in genetic disorders.\n",
    "\n",
    "**Reproduction** involves recombination of genes from parents and then small amounts of mutations while copying. \n",
    "e.g. Female is XY and Male is XX chromosome, then daughter would be XX where one X is from Mother & other from Father & son would be XY where X is from Mother & Y is from father.\n",
    "\n",
    "**Fitness of an organism** relates with -how much it can reproduce before it dies.\n",
    "\n",
    "**Natural Selection** - \n",
    "    This concept is from Darwin's theory of evolution. Only those organisms which adapt well and survive in their environment tend to increase their breed through reproduction and rest are eliminated.\n",
    "    Genetic Algorithms maintain a population of candidate solutions at hand & makes it evolve by iteratively applying a set of random operators.\n",
    "\n",
    "## Interesting things about Natural Evolution\n",
    "\n",
    "Organisms while evolving adapt or improve through a biological random process than trying to incorporate understanding of the entire environment around it. Organisms try to cope with the demands of the environments. This has inspired Bio- Inspired Computing branch.\n",
    "\n",
    "## Classical Computing versus Bio-Inspired Computing\n",
    "\n",
    "**Classical Computing** is ***strong*** at:\n",
    "1. Number-crunching & processing large amounts of data\n",
    "2. Creating decision trees\n",
    "3. Rule based\n",
    "4. Automation\n",
    "\n",
    "**Classical Computing** is ***weak*** at:\n",
    "1. Pattern Recognition\n",
    "2. Damage protection\n",
    "3. Dealing with vague and incomplete data\n",
    "4. Adapting and improving based on experience\n",
    "\n",
    "**Bio-insprired** approach takes an evolutionary approach to learn. In traditional AI, usually logic is fed by the programmer. In Bio-Inspired approach simple rules for how to learn and synthesize are fed and intelligence is let to evolve.\n",
    "\n",
    "## Problem Solving using GA and its association with Data Science\n",
    "\n",
    "Usually Brute -Force method of finding solution doesn't work for a practical problem due to large number of possible solutions which are to be generated and tested before finding the best solution.\n",
    "\n",
    "Genetic Algorithms can be used instead.\n",
    "\n",
    "The flow chart of Genetic Algorithms is as below:\n",
    "\n",
    "1. *STEP1:* **INITIALIZE POPULATION** \n",
    "2. *STEP2:* **EVALUATE EVERY INDIVIDUAL'S FITNESS** \n",
    "3. *STEP3:* **SATISFIES THE CONSTRAINTS** \n",
    "4. *STEP4A:* **SATISFIES THE CONSTRAINTS** -> (IF YES) **OUTPUT RESULTS**\n",
    "5. *STEP4B:* **SATISFIES THE CONSTRAINTS** -> (IF NO) **SELECT SURVIVORS** -> **RANDOMLY VARY EVERY SURVIVOR** -> *STEP2*\n",
    "\n",
    "\n",
    "### How to encode this solution?\n",
    "\n",
    "Different problems require different encoding. GAs often encode solutions as fixed length \"bitstrings\" which can be thought of as chromosomes represented in a format like 101110100101. Each bit here represents some aspect of the solution to the problem. For Genetic Algorithms to work, we need to be able to test & score how good or fit that string/solution is.\n",
    "\n",
    "\n",
    "#### Search Space\n",
    "**Search Space** is a set of all possible solutions. It may also be called as **State Space**.\n",
    "For simple function f(x) the search space is one dimensional. But by encoding several values in chromosomes the function can have many dimensions f(x,y,z,a).\n",
    "    The search space can be visualized as a surface or fitness landscape in which fitness dictates height. Each possible genotype is a point on the search space. GA tries to move the points to better places (higher fitness) in the search space.\n",
    "    *Different types of problems in data science have different types of search space landscapes/ functions.*\n",
    "\n",
    "#### Fitness Functions\n",
    "There are explicit & static fitness functions used by GAs. In robotics, implicit & dynamic fitness functions are used.\n",
    "The function could be defined as \n",
    "*Individual's fitness/Average fitness of population*\n",
    "\n",
    "#### Selecting parents for breeding\n",
    "Many schemes are possible so long as better scoring chromosomes are more likely selected. Score is often called fitness.\n",
    "\n",
    "#### Crossover Point\n",
    "Once we have identified the parents, while breeding and creating child, cross over point is identification of that point in the child's chromosome upto which genes of mother chromosome would be maintained and later ahead from that point genes of father chromosome would be copied.\n",
    "\n",
    "#### Crossover Rate\n",
    "It is a predetermined number like 80% or 95%  using which crossover is applied to parents. Idea of crossover is to preserve best or fittest genes or bits from the 2 parents and produce a better solution. Good encoding scheme tries to preserve good bits during crossover and mutation.\n",
    "\n",
    "#### Mutation\n",
    "With a small probability or mutation rate, a bit in the string or chromosome is changed. Usually the values of mutation rate are 0.1 or 0.0001. This causes movement in the search space & restores lost information to the population.\n",
    "\n",
    "*There are different kinds of parent selection procedures, crossover determination procedures, encoding procedures, different ways to mutate.*\n",
    "\n",
    "## Considerations of Genetic Algorithms Implementation\n",
    "\n",
    "* representation\n",
    "* population size\n",
    "* mutation rate\n",
    "* selection\n",
    "* elimation\n",
    "* crossover operators\n",
    "* mutation operators\n",
    "* stopping criterion\n",
    "* performance determination\n",
    "* scalability capability\n",
    "* how will I deploy it?\n",
    "\n",
    "**Correct construction of problem takes a lot of time!! It is most important & hardest step.**\n",
    "\n",
    "\n",
    "    Reference:https://www.youtube.com/watch?v=lpD38NxTOnk"
   ]
  },
  {
   "cell_type": "code",
   "execution_count": 5,
   "metadata": {
    "collapsed": false
   },
   "outputs": [
    {
     "data": {
      "text/plain": [
       "[95, 51, 34, 6, 60, 47]"
      ]
     },
     "execution_count": 5,
     "metadata": {},
     "output_type": "execute_result"
    }
   ],
   "source": [
    "# Here, we consider a simple problem to optimize using EVOLVE function definition in python. \n",
    "# We start by creating list of numbers such that when summed together its total equals another number. \n",
    "# Let’s say use X=6 numbers and Y=200, then using 6 numbers summed together results in Y. \n",
    "# We wish to find an appropriate solution for this problem.  \n",
    "# As we proceed, let us consider different terms from the Genetic Algorithms and see its practical use case.\n",
    "\n",
    "# Every solution that is suggested for the above problem is called as INDIVIDUAL. \n",
    "# Here every combination of list of 6 numbers suggested as a solution is INDIVIDUAL.\n",
    "\n",
    "from random import randint\n",
    "def individual(length, min, max):\n",
    "    'Create a member of the population.'\n",
    "    return [ randint(min,max) for x in range(length) ]\n",
    "\n",
    "individual (6,0,100)"
   ]
  },
  {
   "cell_type": "code",
   "execution_count": 6,
   "metadata": {
    "collapsed": false
   },
   "outputs": [
    {
     "data": {
      "text/plain": [
       "[[22, 67, 0, 75, 88, 91],\n",
       " [75, 54, 51, 87, 21, 72],\n",
       " [94, 98, 79, 70, 95, 22],\n",
       " [41, 66, 71, 59, 72, 92],\n",
       " [70, 86, 85, 28, 0, 55],\n",
       " [2, 56, 68, 100, 29, 4],\n",
       " [3, 23, 60, 21, 24, 11],\n",
       " [5, 1, 36, 16, 90, 95],\n",
       " [3, 54, 54, 20, 85, 89],\n",
       " [26, 81, 8, 65, 3, 84]]"
      ]
     },
     "execution_count": 6,
     "metadata": {},
     "output_type": "execute_result"
    }
   ],
   "source": [
    "# All such INDIVIDUALS form a population. \n",
    "# We try to create a population in python. \n",
    "# Count represents number of individuals in a population are to be created. \n",
    "# Length is the X or 6 in this case. \n",
    "# Min and Max value is the possible minimum/maximum value in an individual’s list of values.\n",
    "\n",
    "def population(count, length, min, max):\n",
    "\n",
    "    return [ individual(length, min, max) for x in range(count) ]\n",
    "\n",
    "population(10, 6, 0, 100)\n"
   ]
  },
  {
   "cell_type": "code",
   "execution_count": 16,
   "metadata": {
    "collapsed": false
   },
   "outputs": [
    {
     "data": {
      "text/plain": [
       "168"
      ]
     },
     "execution_count": 16,
     "metadata": {},
     "output_type": "execute_result"
    }
   ],
   "source": [
    "# Now, we define FITNESS function which identifies how close the sum of the above identified INDIVIDUALS \n",
    "# from the POPULATION is to the Y value of 200.\n",
    "\n",
    "from operator import add\n",
    "import functools\n",
    "def fitness(individual, target):\n",
    "    sum = functools.reduce(add, individual, 0)\n",
    "    return abs(target-sum)\n",
    "\n",
    "x = individual(6,0,100)\n",
    "fitness(x, 200)\n"
   ]
  },
  {
   "cell_type": "code",
   "execution_count": 19,
   "metadata": {
    "collapsed": false
   },
   "outputs": [
    {
     "data": {
      "text/plain": [
       "140.7"
      ]
     },
     "execution_count": 19,
     "metadata": {},
     "output_type": "execute_result"
    }
   ],
   "source": [
    "# For a given individual case we see the fitness value is 168. We now figure out population average fitness value. \n",
    "def grade(pop, target):\n",
    "    summed = functools.reduce(add, (fitness(x, target) for x in pop), 0)\n",
    "    return summed / (len(pop) * 1.0)\n",
    "\n",
    "x = population(10,6,0,100)\n",
    "target = 200\n",
    "grade(x, target)\n"
   ]
  },
  {
   "cell_type": "code",
   "execution_count": 20,
   "metadata": {
    "collapsed": false
   },
   "outputs": [
    {
     "data": {
      "text/plain": [
       "[11, 22, 33, 40, 50, 60]"
      ]
     },
     "execution_count": 20,
     "metadata": {},
     "output_type": "execute_result"
    }
   ],
   "source": [
    "# We see that the average fitness for the population containing 10 individuals is 140.7. \n",
    "# To proceed further, we need to evolve this population to have a new GENERATION.\n",
    "# To move to next GENERATION EVOLUTION, the weakest are removed and fittest INDIVIDUALS \n",
    "# pass on their GENES to next GENERATION.\n",
    "# For every GENERATION, we will consider the fittest INDIVIDUALS identified by the fitness function defined above. \n",
    "# These INDIVIDUALS would be reproducing and giving rise to next generation.\n",
    "\n",
    "# To ensure genetic diversity, we select some poorly fit INDIVIDUALS to ensure genetic diversity. \n",
    "# We do this to impart genetic diversity & ensure not getting stuck at local maxima and never reach global maxima.\n",
    "# We create parent arrays and store it in array called father & mother. Then merge the two to create child array.\n",
    "\n",
    "father = [11,22,33,44,55,66]\n",
    "mother = [10,20,30,40,50,60]\n",
    "child = father[:3] + mother[3:]\n",
    "child\n"
   ]
  },
  {
   "cell_type": "code",
   "execution_count": 24,
   "metadata": {
    "collapsed": false
   },
   "outputs": [],
   "source": [
    "# MUTATE is replacing a small random portion of population. \n",
    "# MUTATION is, with certain probability, randomly changing the INDIVIDUAL. \n",
    "# This is like adding some weakly fitting INDIVIDUALS so as to ensure presence of genetic diversity \n",
    "# and not getting stuck at local maxima.\n",
    "\n",
    "import random\n",
    "chance_to_mutate = 0.01\n",
    "for i in population(10, 6, 0, 100):\n",
    "    if chance_to_mutate > random.randint(1,10):\n",
    "        place_to_modify = randint(0,len(i))\n",
    "        i[place_to_modify] = randint(min(i), max(i))\n"
   ]
  },
  {
   "cell_type": "code",
   "execution_count": 27,
   "metadata": {
    "collapsed": true
   },
   "outputs": [],
   "source": [
    "# We now run the entire genetic algorithm code and test how the evolution occurs.\n",
    "\n",
    "def evolve(pop, target, retain=0.2, random_select=0.05, mutate=0.01):\n",
    "    graded = [ (fitness(x, target), x) for x in pop]\n",
    "    graded = [ x[1] for x in sorted(graded)]\n",
    "    retain_length = int(len(graded)*retain)\n",
    "    parents = graded[:retain_length]\n",
    "\n",
    "    # randomly add other individuals to promote genetic diversity\n",
    "    for individual in graded[retain_length:]:\n",
    "        if random_select >  random.randint(1,10):\n",
    "            parents.append(individual)\n",
    "            \n",
    "    # mutate some individuals\n",
    "    for individual in parents:\n",
    "        if mutate >  random.randint(1,10):\n",
    "            pos_to_mutate = randint(0, len(individual)-1)\n",
    "            # this mutation is not ideal, because it\n",
    "            # restricts the range of possible values,\n",
    "            # but the function is unaware of the min/max\n",
    "            # values used to create the individuals,\n",
    "            individual[pos_to_mutate] = randint(\n",
    "                min(individual), max(individual))\n",
    "    \n",
    "    # crossover parents to create children\n",
    "    parents_length = len(parents)\n",
    "    desired_length = len(pop) - parents_length\n",
    "    children = []\n",
    "    while len(children) < desired_length:\n",
    "        male = randint(0, parents_length-1)\n",
    "        female = randint(0, parents_length-1)\n",
    "        if male != female:\n",
    "            male = parents[male]\n",
    "            female = parents[female]\n",
    "            half = int(len(male) / 2)\n",
    "            child = male[:half] + female[half:]\n",
    "            children.append(child)\n",
    "\n",
    "    parents.extend(children)\n",
    "    return parents\n"
   ]
  },
  {
   "cell_type": "code",
   "execution_count": 29,
   "metadata": {
    "collapsed": false
   },
   "outputs": [
    {
     "name": "stdout",
     "output_type": "stream",
     "text": [
      "101.78\n",
      "25.79\n",
      "17.26\n",
      "9.38\n",
      "6.19\n",
      "0.0\n",
      "0.0\n"
     ]
    }
   ],
   "source": [
    "# For testing, we provide target Y= sum as 200, population count of 100, total numbers X= 6. \n",
    "# The numbers should lie between 0 and 100.\n",
    "\n",
    "target = 200\n",
    "p_count = 100\n",
    "i_length = 6\n",
    "i_min = 0\n",
    "i_max = 100\n",
    "p = population(p_count, i_length, i_min, i_max)\n",
    "fitness_history = [grade(p, target),]\n",
    "\n",
    "for i in range(6):\n",
    "    p = evolve(p, target)\n",
    "    fitness_history.append(grade(p, target))\n",
    "\n",
    "for datum in fitness_history:\n",
    "    print (datum)\n"
   ]
  },
  {
   "cell_type": "markdown",
   "metadata": {},
   "source": [
    "We notice that when iteratively the Genetic algorithm works, the fitness value comes close to 0 which means the we are reaching close to the target. \n",
    "To find out what were those best set of numbers or optimal numbers, we run the following code.\n",
    "\n",
    "*for i in range(6):\n",
    "*print(p) \n",
    "**[17, 50, 34, 4, 53, 42], [17, 50, 34, 4, 53, 42]] is the best combination found.**\n",
    "\n",
    "Genetic Algorithm gave the final output as X = 6 numbers containing [17, 50, 34, 4, 53, 42], [17, 50, 34, 4, 53, 42]].\n",
    "Sum of these comes out as 199 which is close to 200. Thus, optimal value has been reached.\n"
   ]
  },
  {
   "cell_type": "markdown",
   "metadata": {},
   "source": [
    "Reference: https://lethain.com/genetic-algorithms-cool-name-damn-simple/\n"
   ]
  },
  {
   "cell_type": "markdown",
   "metadata": {},
   "source": [
    "### GA in Query Search & Query Engine Optimization\n",
    "Genetic Algorithms belongs to a class of evolutionary algorithms. They generate solutions to optimization problems using techniques of evolution, mutation, etc. described above. There has been research work done on Information Retrieval and Query Search Optimization process using Genetic Algorithms. Search Engines using Evolutionary Algorithms talks about how GA are useful in determining optimized query results. It mentions, that there exists a system for storing a knowledge base content collection. When users access to these sources of information by querying for their area of interest, the system automatically generates a list of web documents by selecting a suitable library of keywords and a search agent which creates and optimizes search queries for a search engine using Genetic Algorithms.\n"
   ]
  },
  {
   "cell_type": "markdown",
   "metadata": {},
   "source": [
    "Reference:\n",
    "https://www.idc-online.com/technical_references/pdfs/data_communications/SEARCH%20ENGINES.pdf\n"
   ]
  }
 ],
 "metadata": {
  "kernelspec": {
   "display_name": "Python 3",
   "language": "python",
   "name": "python3"
  },
  "language_info": {
   "codemirror_mode": {
    "name": "ipython",
    "version": 3
   },
   "file_extension": ".py",
   "mimetype": "text/x-python",
   "name": "python",
   "nbconvert_exporter": "python",
   "pygments_lexer": "ipython3",
   "version": "3.6.0"
  }
 },
 "nbformat": 4,
 "nbformat_minor": 2
}
